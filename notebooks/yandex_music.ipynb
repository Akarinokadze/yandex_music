{
 "cells": [
  {
   "cell_type": "markdown",
   "id": "a282b99f",
   "metadata": {},
   "source": [
    "# Yandex.Music Обнаружение каверов музыкальных треков"
   ]
  },
  {
   "cell_type": "markdown",
   "id": "b3eab034",
   "metadata": {},
   "source": [
    "## Общее описание задачи\n",
    "\n",
    "Обнаружение треков каверов - важная продуктовая задача, которая может значительно улучшить качество рекомендаций музыкального сервиса и повысить счастье наших пользователей. Если мы умеем с высокой точностью классифицировать каверы и связывать их между собой, то можно предложить пользователю новые возможности для управления потоком треков. Например:\n",
    "\n",
    "  * по желанию пользователя можем полностью исключить каверы из рекомендаций;\n",
    "  * показать все каверы на любимый трек пользователя;\n",
    "  * контролировать долю каверов в ленте пользователя.\n",
    "  \n",
    "## Цели\n",
    "\n",
    "В этом хакатоне нам предлагается разработать решение, которое:\n",
    "  * может классифицировать треки по признаку кавер-некавер;\n",
    "  * связывать (группировать) каверы и исходный трек;\n",
    "  * находит исходный трек в цепочке каверов.\n",
    "\n",
    "\n",
    "## Описание данных\n",
    "\n",
    "Разметка каверов\n",
    "\n",
    "Файл **covers.json** содержит разметку каверов, сделанную редакторами сервиса:\n",
    "\n",
    "   * `track_id` – уникальный идентификатор трека;\n",
    "\n",
    "   * `original_track_id` – уникальный идентификатор исходного трека;\n",
    "\n",
    "   * `track_remake_type` – метка, присвоенная редакторами. Может принимать значения ORIGINAL и COVER.\n",
    "\n",
    "Метаинформация\n",
    "\n",
    "Файл **meta.json** содержит следующую информацию:\n",
    "\n",
    "   * `track_id` – уникальный идентификатор трека;\n",
    "\n",
    "   * `dttm` – первая дата появления информации о треке;\n",
    "\n",
    "   * `title` – название трека;\n",
    "\n",
    "   * `language` – язык исполнения;\n",
    "\n",
    "   * `isrc` – международный уникальный идентификатор трека;\n",
    "\n",
    "   * `genres` – жанры;\n",
    "\n",
    "   * `duration` – длительность трека.\n",
    "\n",
    "Тексты песен\n",
    "\n",
    "Файл **lyrics.json** содержит следующую информацию:\n",
    "\n",
    "   * `track_id` – уникальный идентификатор трека;\n",
    "\n",
    "   * `lyricId` – уникальный идентификатор текста;\n",
    "\n",
    "   * `text` – текст трека.\n",
    "   \n",
    "## Предполагаемая стратегия решения задачи\n",
    "\n",
    "  * очистим, исправим ошибки и объединим данные\n",
    "  * преобразуем тексты песен в векторное представление\n",
    "  * сделаем попарное сравнение дистанций между разными треками\n",
    "  * объединим с другими признаками для этих пар треков и получим набор данных для обучения\n",
    "  * обучим модель которая по текстам двух песен и их метаданным сможет предсказывать то что песни являются каверами\n",
    "  * напишем модуль, который по заданному id трека получит предсказания для всех треков в базе\n",
    "  * добавим помеченные каверами треки в список и выберем в списке самый ранний трек\n",
    "  * добавим в общую базу данные об оригинальности трека и каверности треков сравнения"
   ]
  },
  {
   "cell_type": "code",
   "execution_count": 1,
   "id": "1991afee",
   "metadata": {},
   "outputs": [],
   "source": [
    "from pathlib import Path\n",
    "\n",
    "import matplotlib.pyplot as plt\n",
    "import seaborn as sns\n",
    "import numpy as np\n",
    "import pandas as pd\n",
    "\n",
    "import re\n",
    "\n",
    "from sklearn.metrics.pairwise import cosine_similarity\n",
    "\n",
    "import torch\n",
    "from sentence_transformers import SentenceTransformer\n",
    "\n",
    "import pickle\n",
    "\n",
    "from sklearn.compose import make_column_transformer, make_column_selector\n",
    "from sklearn.pipeline import make_pipeline\n",
    "from sklearn.model_selection import train_test_split, GridSearchCV\n",
    "from sklearn.metrics import f1_score, confusion_matrix, ConfusionMatrixDisplay, classification_report\n",
    "from sklearn.preprocessing import StandardScaler\n",
    "from sklearn.linear_model import LogisticRegression\n",
    "from sklearn.svm import LinearSVC\n",
    "\n",
    "from catboost import CatBoostClassifier"
   ]
  },
  {
   "cell_type": "code",
   "execution_count": 2,
   "id": "036fcf6a",
   "metadata": {},
   "outputs": [],
   "source": [
    "pd.set_option('display.float_format', '{:.3f}'.format)\n",
    "pd.set_option('display.max_columns', 500)\n",
    "pd.set_option('display.width', 1000)\n",
    "pd.set_option('display.max_colwidth', 250)"
   ]
  },
  {
   "cell_type": "markdown",
   "id": "13580caf",
   "metadata": {},
   "source": [
    "Зафиксируем рандомайзеры."
   ]
  },
  {
   "cell_type": "code",
   "execution_count": 3,
   "id": "c3302a74",
   "metadata": {},
   "outputs": [],
   "source": [
    "SEED=31416\n",
    "np.random.seed=SEED\n",
    "np.random.set_state=SEED"
   ]
  },
  {
   "cell_type": "markdown",
   "id": "ce1a6052",
   "metadata": {},
   "source": [
    "## EDA"
   ]
  },
  {
   "cell_type": "markdown",
   "id": "6949211b",
   "metadata": {},
   "source": [
    "Загрузим и осмотрим данные."
   ]
  },
  {
   "cell_type": "code",
   "execution_count": 4,
   "id": "40d04eab",
   "metadata": {},
   "outputs": [],
   "source": [
    "covers = pd.read_json(Path('..', 'data', '01_raw', 'covers.json'), lines=True)"
   ]
  },
  {
   "cell_type": "code",
   "execution_count": 5,
   "id": "c9e2a487",
   "metadata": {},
   "outputs": [
    {
     "data": {
      "text/html": [
       "<div>\n",
       "<style scoped>\n",
       "    .dataframe tbody tr th:only-of-type {\n",
       "        vertical-align: middle;\n",
       "    }\n",
       "\n",
       "    .dataframe tbody tr th {\n",
       "        vertical-align: top;\n",
       "    }\n",
       "\n",
       "    .dataframe thead th {\n",
       "        text-align: right;\n",
       "    }\n",
       "</style>\n",
       "<table border=\"1\" class=\"dataframe\">\n",
       "  <thead>\n",
       "    <tr style=\"text-align: right;\">\n",
       "      <th></th>\n",
       "      <th>original_track_id</th>\n",
       "      <th>track_id</th>\n",
       "      <th>track_remake_type</th>\n",
       "    </tr>\n",
       "  </thead>\n",
       "  <tbody>\n",
       "    <tr>\n",
       "      <th>0</th>\n",
       "      <td>eeb69a3cb92300456b6a5f4162093851</td>\n",
       "      <td>eeb69a3cb92300456b6a5f4162093851</td>\n",
       "      <td>ORIGINAL</td>\n",
       "    </tr>\n",
       "    <tr>\n",
       "      <th>1</th>\n",
       "      <td>fe7ee8fc1959cc7214fa21c4840dff0a</td>\n",
       "      <td>fe7ee8fc1959cc7214fa21c4840dff0a</td>\n",
       "      <td>ORIGINAL</td>\n",
       "    </tr>\n",
       "    <tr>\n",
       "      <th>2</th>\n",
       "      <td>cd89fef7ffdd490db800357f47722b20</td>\n",
       "      <td>cd89fef7ffdd490db800357f47722b20</td>\n",
       "      <td>ORIGINAL</td>\n",
       "    </tr>\n",
       "    <tr>\n",
       "      <th>3</th>\n",
       "      <td>995665640dc319973d3173a74a03860c</td>\n",
       "      <td>995665640dc319973d3173a74a03860c</td>\n",
       "      <td>ORIGINAL</td>\n",
       "    </tr>\n",
       "    <tr>\n",
       "      <th>4</th>\n",
       "      <td>None</td>\n",
       "      <td>d6288499d0083cc34e60a077b7c4b3e1</td>\n",
       "      <td>COVER</td>\n",
       "    </tr>\n",
       "    <tr>\n",
       "      <th>...</th>\n",
       "      <td>...</td>\n",
       "      <td>...</td>\n",
       "      <td>...</td>\n",
       "    </tr>\n",
       "    <tr>\n",
       "      <th>71592</th>\n",
       "      <td>4788e0bf61d80ef5ec9380aa8a8119d9</td>\n",
       "      <td>4788e0bf61d80ef5ec9380aa8a8119d9</td>\n",
       "      <td>ORIGINAL</td>\n",
       "    </tr>\n",
       "    <tr>\n",
       "      <th>71593</th>\n",
       "      <td>None</td>\n",
       "      <td>78b2db35476f134dc3cdfbf4d77ba034</td>\n",
       "      <td>COVER</td>\n",
       "    </tr>\n",
       "    <tr>\n",
       "      <th>71594</th>\n",
       "      <td>None</td>\n",
       "      <td>e720ff378efe032df56e0e656a6a92d3</td>\n",
       "      <td>COVER</td>\n",
       "    </tr>\n",
       "    <tr>\n",
       "      <th>71595</th>\n",
       "      <td>554e33d79e258da91149c3a4985cf6a1</td>\n",
       "      <td>554e33d79e258da91149c3a4985cf6a1</td>\n",
       "      <td>ORIGINAL</td>\n",
       "    </tr>\n",
       "    <tr>\n",
       "      <th>71596</th>\n",
       "      <td>7b0f6ff24137be50cf5ea5f82d789448</td>\n",
       "      <td>7b0f6ff24137be50cf5ea5f82d789448</td>\n",
       "      <td>ORIGINAL</td>\n",
       "    </tr>\n",
       "  </tbody>\n",
       "</table>\n",
       "<p>71597 rows × 3 columns</p>\n",
       "</div>"
      ],
      "text/plain": [
       "                      original_track_id                          track_id track_remake_type\n",
       "0      eeb69a3cb92300456b6a5f4162093851  eeb69a3cb92300456b6a5f4162093851          ORIGINAL\n",
       "1      fe7ee8fc1959cc7214fa21c4840dff0a  fe7ee8fc1959cc7214fa21c4840dff0a          ORIGINAL\n",
       "2      cd89fef7ffdd490db800357f47722b20  cd89fef7ffdd490db800357f47722b20          ORIGINAL\n",
       "3      995665640dc319973d3173a74a03860c  995665640dc319973d3173a74a03860c          ORIGINAL\n",
       "4                                  None  d6288499d0083cc34e60a077b7c4b3e1             COVER\n",
       "...                                 ...                               ...               ...\n",
       "71592  4788e0bf61d80ef5ec9380aa8a8119d9  4788e0bf61d80ef5ec9380aa8a8119d9          ORIGINAL\n",
       "71593                              None  78b2db35476f134dc3cdfbf4d77ba034             COVER\n",
       "71594                              None  e720ff378efe032df56e0e656a6a92d3             COVER\n",
       "71595  554e33d79e258da91149c3a4985cf6a1  554e33d79e258da91149c3a4985cf6a1          ORIGINAL\n",
       "71596  7b0f6ff24137be50cf5ea5f82d789448  7b0f6ff24137be50cf5ea5f82d789448          ORIGINAL\n",
       "\n",
       "[71597 rows x 3 columns]"
      ]
     },
     "execution_count": 5,
     "metadata": {},
     "output_type": "execute_result"
    }
   ],
   "source": [
    "covers"
   ]
  },
  {
   "cell_type": "code",
   "execution_count": 6,
   "id": "948bea9a",
   "metadata": {},
   "outputs": [
    {
     "name": "stdout",
     "output_type": "stream",
     "text": [
      "<class 'pandas.core.frame.DataFrame'>\n",
      "RangeIndex: 71597 entries, 0 to 71596\n",
      "Data columns (total 3 columns):\n",
      " #   Column             Non-Null Count  Dtype \n",
      "---  ------             --------------  ----- \n",
      " 0   original_track_id  4821 non-null   object\n",
      " 1   track_id           71597 non-null  object\n",
      " 2   track_remake_type  71597 non-null  object\n",
      "dtypes: object(3)\n",
      "memory usage: 1.6+ MB\n"
     ]
    }
   ],
   "source": [
    "covers.info()"
   ]
  },
  {
   "cell_type": "markdown",
   "id": "6f0190ea",
   "metadata": {},
   "source": [
    "Проверим, для скольких треков с меткой `COVER` есть информация об оригинальном треке."
   ]
  },
  {
   "cell_type": "code",
   "execution_count": 7,
   "id": "54ced90b",
   "metadata": {},
   "outputs": [
    {
     "data": {
      "text/plain": [
       "original_track_id    528\n",
       "track_id             528\n",
       "track_remake_type    528\n",
       "dtype: int64"
      ]
     },
     "execution_count": 7,
     "metadata": {},
     "output_type": "execute_result"
    }
   ],
   "source": [
    "covers[(covers['track_remake_type'] == 'COVER') & ~(covers['original_track_id'].isna())].count()"
   ]
  },
  {
   "cell_type": "markdown",
   "id": "4d56b1f4",
   "metadata": {},
   "source": [
    "Есть информация об оригиналах для 528 треков."
   ]
  },
  {
   "cell_type": "markdown",
   "id": "5ec715ce",
   "metadata": {},
   "source": [
    "Проверим, всегда ли при наличии метки `ORIGINAL`, совпадают поля `original_track_id` и `track_id`."
   ]
  },
  {
   "cell_type": "code",
   "execution_count": 8,
   "id": "330dd5c8",
   "metadata": {},
   "outputs": [
    {
     "data": {
      "text/plain": [
       "original_track_id    0\n",
       "track_id             0\n",
       "track_remake_type    0\n",
       "dtype: int64"
      ]
     },
     "execution_count": 8,
     "metadata": {},
     "output_type": "execute_result"
    }
   ],
   "source": [
    "covers[(covers['track_remake_type'] == 'ORIGINAL') &\n",
    "       (covers['original_track_id'] != covers['track_id'])].count()"
   ]
  },
  {
   "cell_type": "markdown",
   "id": "77796ebe",
   "metadata": {},
   "source": [
    "Поля совпадают."
   ]
  },
  {
   "cell_type": "markdown",
   "id": "7451689a",
   "metadata": {},
   "source": [
    "Посмотрим на распределение меток и на уникальность ключей."
   ]
  },
  {
   "cell_type": "code",
   "execution_count": 9,
   "id": "8177a7a2",
   "metadata": {},
   "outputs": [
    {
     "data": {
      "text/plain": [
       "71597"
      ]
     },
     "execution_count": 9,
     "metadata": {},
     "output_type": "execute_result"
    }
   ],
   "source": [
    "covers.track_id.nunique()"
   ]
  },
  {
   "cell_type": "code",
   "execution_count": 10,
   "id": "ca9c176b",
   "metadata": {},
   "outputs": [
    {
     "data": {
      "text/plain": [
       "<AxesSubplot:xlabel='track_remake_type', ylabel='count'>"
      ]
     },
     "execution_count": 10,
     "metadata": {},
     "output_type": "execute_result"
    },
    {
     "data": {
      "image/png": "[encoded data removed]",
      "text/plain": [
       "<Figure size 640x480 with 1 Axes>"
      ]
     },
     "metadata": {},
     "output_type": "display_data"
    }
   ],
   "source": [
    "sns.countplot(data=covers, x='track_remake_type')"
   ]
  },
  {
   "cell_type": "markdown",
   "id": "98d3f7d3",
   "metadata": {},
   "source": [
    "В файле с разметкой каверов чуть больше 71 тысячи уникальных треков. Информация об оригинальности есть для всех. Оригинальные треки указаны только для части. При этом у всех оригинальных треков указан тот же трек как исходный."
   ]
  },
  {
   "cell_type": "code",
   "execution_count": 11,
   "id": "f159187e",
   "metadata": {},
   "outputs": [],
   "source": [
    "cover_list = covers[(covers['track_remake_type'] == 'COVER') &\n",
    "                    ~(covers['original_track_id'].isna())]['original_track_id'].tolist()"
   ]
  },
  {
   "cell_type": "code",
   "execution_count": 12,
   "id": "164f1dc0",
   "metadata": {},
   "outputs": [
    {
     "data": {
      "text/plain": [
       "ORIGINAL    53\n",
       "COVER        3\n",
       "Name: track_remake_type, dtype: int64"
      ]
     },
     "execution_count": 12,
     "metadata": {},
     "output_type": "execute_result"
    }
   ],
   "source": [
    "covers[covers['track_id'].isin(cover_list)]['track_remake_type'].value_counts()"
   ]
  },
  {
   "cell_type": "markdown",
   "id": "0ac51e2c",
   "metadata": {},
   "source": [
    "Среди треков помеченных как `COVER` для которых есть ссылки на оригиналы, только 56 имеют ссылку на оригинальный трек, который есть в нашем датасете. Это делает задачу попарного сравнения плохо решаемой."
   ]
  },
  {
   "cell_type": "markdown",
   "id": "4bd788cf",
   "metadata": {},
   "source": [
    "Информация об оригинальности продублирована для всех треков с меткой `ORIGINAL`. Однако, удалять мы её не станем, она нам поможет при проверке правильности работы нашей модели.\n",
    "\n",
    "Проверим мета-информацию."
   ]
  },
  {
   "cell_type": "code",
   "execution_count": 13,
   "id": "a17b8689",
   "metadata": {},
   "outputs": [],
   "source": [
    "meta = pd.read_json(Path('..', 'data', '01_raw', 'meta.json'), lines=True)"
   ]
  },
  {
   "cell_type": "code",
   "execution_count": 14,
   "id": "1ccde7b9",
   "metadata": {},
   "outputs": [
    {
     "data": {
      "text/html": [
       "<div>\n",
       "<style scoped>\n",
       "    .dataframe tbody tr th:only-of-type {\n",
       "        vertical-align: middle;\n",
       "    }\n",
       "\n",
       "    .dataframe tbody tr th {\n",
       "        vertical-align: top;\n",
       "    }\n",
       "\n",
       "    .dataframe thead th {\n",
       "        text-align: right;\n",
       "    }\n",
       "</style>\n",
       "<table border=\"1\" class=\"dataframe\">\n",
       "  <thead>\n",
       "    <tr style=\"text-align: right;\">\n",
       "      <th></th>\n",
       "      <th>track_id</th>\n",
       "      <th>dttm</th>\n",
       "      <th>title</th>\n",
       "      <th>language</th>\n",
       "      <th>isrc</th>\n",
       "      <th>genres</th>\n",
       "      <th>duration</th>\n",
       "    </tr>\n",
       "  </thead>\n",
       "  <tbody>\n",
       "    <tr>\n",
       "      <th>0</th>\n",
       "      <td>c3b9d6a354ca008aa4518329aaa21380</td>\n",
       "      <td>1639688400000.000</td>\n",
       "      <td>Happy New Year</td>\n",
       "      <td>EN</td>\n",
       "      <td>RUB422103970</td>\n",
       "      <td>[DANCE]</td>\n",
       "      <td>161120.000</td>\n",
       "    </tr>\n",
       "    <tr>\n",
       "      <th>1</th>\n",
       "      <td>c57e3d13bbbf5322584a7e92e6f1f7ff</td>\n",
       "      <td>1637762433000.000</td>\n",
       "      <td>Bad Habits</td>\n",
       "      <td>EN</td>\n",
       "      <td>QZN882178276</td>\n",
       "      <td>[ELECTRONICS]</td>\n",
       "      <td>362260.000</td>\n",
       "    </tr>\n",
       "    <tr>\n",
       "      <th>2</th>\n",
       "      <td>955f2aafe8717908c140bf122ba4172d</td>\n",
       "      <td>1637768223000.000</td>\n",
       "      <td>Por Esa Loca Vanidad</td>\n",
       "      <td>None</td>\n",
       "      <td>QZNJZ2122549</td>\n",
       "      <td>[FOLK, LATINFOLK]</td>\n",
       "      <td>260000.000</td>\n",
       "    </tr>\n",
       "    <tr>\n",
       "      <th>3</th>\n",
       "      <td>fae5a077c9956045955dde02143bd8ff</td>\n",
       "      <td>1637768223000.000</td>\n",
       "      <td>Mil Lagrimas</td>\n",
       "      <td>None</td>\n",
       "      <td>QZNJZ2166033</td>\n",
       "      <td>[FOLK, LATINFOLK]</td>\n",
       "      <td>190000.000</td>\n",
       "    </tr>\n",
       "    <tr>\n",
       "      <th>4</th>\n",
       "      <td>6bede082154d34fc18d9a6744bc95bf5</td>\n",
       "      <td>1637768223000.000</td>\n",
       "      <td>Sexo Humo y Alcohol</td>\n",
       "      <td>None</td>\n",
       "      <td>QZNJZ2122551</td>\n",
       "      <td>[FOLK, LATINFOLK]</td>\n",
       "      <td>203000.000</td>\n",
       "    </tr>\n",
       "    <tr>\n",
       "      <th>...</th>\n",
       "      <td>...</td>\n",
       "      <td>...</td>\n",
       "      <td>...</td>\n",
       "      <td>...</td>\n",
       "      <td>...</td>\n",
       "      <td>...</td>\n",
       "      <td>...</td>\n",
       "    </tr>\n",
       "    <tr>\n",
       "      <th>71764</th>\n",
       "      <td>4be93dea1715e54db86aaa7f7e9bfb10</td>\n",
       "      <td>1560403209000.000</td>\n",
       "      <td>Chanceuse</td>\n",
       "      <td>FR</td>\n",
       "      <td>CAISO1800023</td>\n",
       "      <td>[INDIE]</td>\n",
       "      <td>212690.000</td>\n",
       "    </tr>\n",
       "    <tr>\n",
       "      <th>71765</th>\n",
       "      <td>7cba0f30eaa8766d6c203eff2f3750a2</td>\n",
       "      <td>1560432843000.000</td>\n",
       "      <td>Quiero Que Vuelvas</td>\n",
       "      <td>None</td>\n",
       "      <td>ES71G1738868</td>\n",
       "      <td>[POP]</td>\n",
       "      <td>237540.000</td>\n",
       "    </tr>\n",
       "    <tr>\n",
       "      <th>71766</th>\n",
       "      <td>26b6aca1c6a02ad0e2a939164716657e</td>\n",
       "      <td>1560448202000.000</td>\n",
       "      <td>Vacation</td>\n",
       "      <td>EN</td>\n",
       "      <td>USA2B1511447</td>\n",
       "      <td>[ALTERNATIVE]</td>\n",
       "      <td>215210.000</td>\n",
       "    </tr>\n",
       "    <tr>\n",
       "      <th>71767</th>\n",
       "      <td>d904dda141238e6ad1b428bfbb21262d</td>\n",
       "      <td>1560448202000.000</td>\n",
       "      <td>Dance Hall Days</td>\n",
       "      <td>EN</td>\n",
       "      <td>USA2B1511448</td>\n",
       "      <td>[ALTERNATIVE]</td>\n",
       "      <td>251010.000</td>\n",
       "    </tr>\n",
       "    <tr>\n",
       "      <th>71768</th>\n",
       "      <td>5731fc0a34c663a0c0082c712df15266</td>\n",
       "      <td>1625086800000.000</td>\n",
       "      <td>17</td>\n",
       "      <td>RU</td>\n",
       "      <td>FR59R1921791</td>\n",
       "      <td>[POP, RUSPOP]</td>\n",
       "      <td>175640.000</td>\n",
       "    </tr>\n",
       "  </tbody>\n",
       "</table>\n",
       "<p>71769 rows × 7 columns</p>\n",
       "</div>"
      ],
      "text/plain": [
       "                               track_id              dttm                 title language          isrc             genres   duration\n",
       "0      c3b9d6a354ca008aa4518329aaa21380 1639688400000.000        Happy New Year       EN  RUB422103970            [DANCE] 161120.000\n",
       "1      c57e3d13bbbf5322584a7e92e6f1f7ff 1637762433000.000            Bad Habits       EN  QZN882178276      [ELECTRONICS] 362260.000\n",
       "2      955f2aafe8717908c140bf122ba4172d 1637768223000.000  Por Esa Loca Vanidad     None  QZNJZ2122549  [FOLK, LATINFOLK] 260000.000\n",
       "3      fae5a077c9956045955dde02143bd8ff 1637768223000.000          Mil Lagrimas     None  QZNJZ2166033  [FOLK, LATINFOLK] 190000.000\n",
       "4      6bede082154d34fc18d9a6744bc95bf5 1637768223000.000   Sexo Humo y Alcohol     None  QZNJZ2122551  [FOLK, LATINFOLK] 203000.000\n",
       "...                                 ...               ...                   ...      ...           ...                ...        ...\n",
       "71764  4be93dea1715e54db86aaa7f7e9bfb10 1560403209000.000             Chanceuse       FR  CAISO1800023            [INDIE] 212690.000\n",
       "71765  7cba0f30eaa8766d6c203eff2f3750a2 1560432843000.000    Quiero Que Vuelvas     None  ES71G1738868              [POP] 237540.000\n",
       "71766  26b6aca1c6a02ad0e2a939164716657e 1560448202000.000              Vacation       EN  USA2B1511447      [ALTERNATIVE] 215210.000\n",
       "71767  d904dda141238e6ad1b428bfbb21262d 1560448202000.000       Dance Hall Days       EN  USA2B1511448      [ALTERNATIVE] 251010.000\n",
       "71768  5731fc0a34c663a0c0082c712df15266 1625086800000.000                    17       RU  FR59R1921791      [POP, RUSPOP] 175640.000\n",
       "\n",
       "[71769 rows x 7 columns]"
      ]
     },
     "execution_count": 14,
     "metadata": {},
     "output_type": "execute_result"
    }
   ],
   "source": [
    "meta"
   ]
  },
  {
   "cell_type": "code",
   "execution_count": 15,
   "id": "71c2d48e",
   "metadata": {},
   "outputs": [
    {
     "name": "stdout",
     "output_type": "stream",
     "text": [
      "<class 'pandas.core.frame.DataFrame'>\n",
      "RangeIndex: 71769 entries, 0 to 71768\n",
      "Data columns (total 7 columns):\n",
      " #   Column    Non-Null Count  Dtype  \n",
      "---  ------    --------------  -----  \n",
      " 0   track_id  71768 non-null  object \n",
      " 1   dttm      71768 non-null  float64\n",
      " 2   title     71768 non-null  object \n",
      " 3   language  21969 non-null  object \n",
      " 4   isrc      71455 non-null  object \n",
      " 5   genres    71768 non-null  object \n",
      " 6   duration  71768 non-null  float64\n",
      "dtypes: float64(2), object(5)\n",
      "memory usage: 3.8+ MB\n"
     ]
    }
   ],
   "source": [
    "meta.info()"
   ]
  },
  {
   "cell_type": "markdown",
   "id": "326d216d",
   "metadata": {},
   "source": [
    "Посмотрим на общее количество жанров."
   ]
  },
  {
   "cell_type": "code",
   "execution_count": 16,
   "id": "3d1a014c",
   "metadata": {},
   "outputs": [],
   "source": [
    "def get_genres(column):\n",
    "    \"\"\"\n",
    "    Функция возвращает уникальные вхождения из определённой колонки.\n",
    "    \"\"\"\n",
    "    genres = []\n",
    "    for row in column:\n",
    "        try:\n",
    "            for entry in row:\n",
    "                if entry not in genres:\n",
    "                    genres.append(entry)\n",
    "        except:\n",
    "            pass\n",
    "    return genres"
   ]
  },
  {
   "cell_type": "code",
   "execution_count": 17,
   "id": "4b6f8208",
   "metadata": {},
   "outputs": [],
   "source": [
    "genres = get_genres(meta.genres)"
   ]
  },
  {
   "cell_type": "code",
   "execution_count": 18,
   "id": "830d0ebc",
   "metadata": {},
   "outputs": [
    {
     "data": {
      "text/plain": [
       "128"
      ]
     },
     "execution_count": 18,
     "metadata": {},
     "output_type": "execute_result"
    }
   ],
   "source": [
    "len(genres)"
   ]
  },
  {
   "cell_type": "code",
   "execution_count": 19,
   "id": "ced4137b",
   "metadata": {},
   "outputs": [
    {
     "data": {
      "text/html": [
       "<div>\n",
       "<style scoped>\n",
       "    .dataframe tbody tr th:only-of-type {\n",
       "        vertical-align: middle;\n",
       "    }\n",
       "\n",
       "    .dataframe tbody tr th {\n",
       "        vertical-align: top;\n",
       "    }\n",
       "\n",
       "    .dataframe thead th {\n",
       "        text-align: right;\n",
       "    }\n",
       "</style>\n",
       "<table border=\"1\" class=\"dataframe\">\n",
       "  <thead>\n",
       "    <tr style=\"text-align: right;\">\n",
       "      <th></th>\n",
       "      <th>track_id</th>\n",
       "      <th>dttm</th>\n",
       "      <th>title</th>\n",
       "      <th>language</th>\n",
       "      <th>isrc</th>\n",
       "      <th>genres</th>\n",
       "      <th>duration</th>\n",
       "    </tr>\n",
       "  </thead>\n",
       "  <tbody>\n",
       "    <tr>\n",
       "      <th>44434</th>\n",
       "      <td>None</td>\n",
       "      <td>NaN</td>\n",
       "      <td>None</td>\n",
       "      <td>None</td>\n",
       "      <td>None</td>\n",
       "      <td>None</td>\n",
       "      <td>NaN</td>\n",
       "    </tr>\n",
       "  </tbody>\n",
       "</table>\n",
       "</div>"
      ],
      "text/plain": [
       "      track_id  dttm title language  isrc genres  duration\n",
       "44434     None   NaN  None     None  None   None       NaN"
      ]
     },
     "execution_count": 19,
     "metadata": {},
     "output_type": "execute_result"
    }
   ],
   "source": [
    "meta[meta['track_id'].isna()]"
   ]
  },
  {
   "cell_type": "code",
   "execution_count": 20,
   "id": "a0c80925",
   "metadata": {},
   "outputs": [],
   "source": [
    "meta.drop(index=meta[meta['track_id'].isna()].index, inplace=True)"
   ]
  },
  {
   "cell_type": "code",
   "execution_count": 21,
   "id": "fbc1c1f3",
   "metadata": {},
   "outputs": [],
   "source": [
    "meta['dttm'] = pd.to_datetime(meta['dttm']/1000, unit='s')"
   ]
  },
  {
   "cell_type": "code",
   "execution_count": 22,
   "id": "8e9a6ba7",
   "metadata": {},
   "outputs": [
    {
     "data": {
      "text/plain": [
       "EN    15322\n",
       "ES     1747\n",
       "RU     1558\n",
       "IT      907\n",
       "HI      285\n",
       "      ...  \n",
       "TN        1\n",
       "KS        1\n",
       "GU        1\n",
       "IU        1\n",
       "LO        1\n",
       "Name: language, Length: 85, dtype: int64"
      ]
     },
     "execution_count": 22,
     "metadata": {},
     "output_type": "execute_result"
    }
   ],
   "source": [
    "meta.language.value_counts()"
   ]
  },
  {
   "cell_type": "markdown",
   "id": "95b72dec",
   "metadata": {},
   "source": [
    "Отсутствует часть информации. Около 3/4 всех меток языка, часть `isrc`. Одна строка пустая. Всего есть информация о треках на 85 языках. Общее количество жанров - 128.\n",
    "\n",
    "Перевели формат даты в привычный, удалили пустую строку.\n",
    "\n",
    "Посмотрим на тексты."
   ]
  },
  {
   "cell_type": "code",
   "execution_count": 23,
   "id": "86daab0e",
   "metadata": {},
   "outputs": [],
   "source": [
    "lyrics = pd.read_json(Path('..', 'data', '01_raw', 'lyrics.json'), lines=True)"
   ]
  },
  {
   "cell_type": "code",
   "execution_count": 24,
   "id": "51ff5f29",
   "metadata": {},
   "outputs": [
    {
     "data": {
      "text/html": [
       "<div>\n",
       "<style scoped>\n",
       "    .dataframe tbody tr th:only-of-type {\n",
       "        vertical-align: middle;\n",
       "    }\n",
       "\n",
       "    .dataframe tbody tr th {\n",
       "        vertical-align: top;\n",
       "    }\n",
       "\n",
       "    .dataframe thead th {\n",
       "        text-align: right;\n",
       "    }\n",
       "</style>\n",
       "<table border=\"1\" class=\"dataframe\">\n",
       "  <thead>\n",
       "    <tr style=\"text-align: right;\">\n",
       "      <th></th>\n",
       "      <th>lyricId</th>\n",
       "      <th>text</th>\n",
       "      <th>track_id</th>\n",
       "    </tr>\n",
       "  </thead>\n",
       "  <tbody>\n",
       "    <tr>\n",
       "      <th>0</th>\n",
       "      <td>a951f9504e89759e9d23039b7b17ec14</td>\n",
       "      <td>Живу сейчас обломами, обломками не той любви\\nПопытками не то любить, что нужно\\nТеряю смысл, ну и пусть, невыносимой стала грусть\\nИ в комнате, что с потолком мне чужда\\n\\nЯ б уплыла в океан, сшила б красный сарафан, и... И...\\nЯ б забыла, что т...</td>\n",
       "      <td>1c4b1230f937e4c548ff732523214dcd</td>\n",
       "    </tr>\n",
       "    <tr>\n",
       "      <th>1</th>\n",
       "      <td>0c749bc3f01eb8e6cf986fa14ccfc585</td>\n",
       "      <td>Tell me your fable\\nA fable\\nTell me your fable\\nTell me your fable\\nTell me your fable\\nA fable\\nTell me your fable\\nTalk to me, tenderly\\nShow reality, fantasy\\nWe'll bound together\\nAll win in one feat\\nTalk to me, tenderly\\nShow reality, fant...</td>\n",
       "      <td>0faea89b0d7d6235b5b74def72511bd8</td>\n",
       "    </tr>\n",
       "    <tr>\n",
       "      <th>2</th>\n",
       "      <td>e2c8830fbc86e5964478243099eec23a</td>\n",
       "      <td>You're ashamed about all your fears and doubts\\nAnd how I hurt you\\nCan you make it back from the aftermath?\\nAnd how I left you\\nNobody wants to be alone\\nWith the fear of letting go\\nIf you could hear me say it's gonna be ok\\nWould you be ok?\\n...</td>\n",
       "      <td>9c6dc41d5ccd9968d07f055da5d8f741</td>\n",
       "    </tr>\n",
       "    <tr>\n",
       "      <th>3</th>\n",
       "      <td>e2c8830fbc86e5964478243099eec23a</td>\n",
       "      <td>You're ashamed about all your fears and doubts\\nAnd how I hurt you\\nCan you make it back from the aftermath?\\nAnd how I left you\\nNobody wants to be alone\\nWith the fear of letting go\\nIf you could hear me say it's gonna be ok\\nWould you be ok?\\n...</td>\n",
       "      <td>bfd04a73e9cffdf0e282c92219a86ea1</td>\n",
       "    </tr>\n",
       "    <tr>\n",
       "      <th>4</th>\n",
       "      <td>7624653ca8522ba93470843c74961b7d</td>\n",
       "      <td>You showed him all the best of you,\\nBut I'm afraid your best wasn't good enough\\nAnd know he never wanted you at least not the way\\nYou wanted yourself to be loved\\nAnd you feel like you were a mistake\\nHe's not worth all those tears that won't ...</td>\n",
       "      <td>8d70930d09cd239c948408d1317d8659</td>\n",
       "    </tr>\n",
       "  </tbody>\n",
       "</table>\n",
       "</div>"
      ],
      "text/plain": [
       "                            lyricId                                                                                                                                                                                                                                                       text                          track_id\n",
       "0  a951f9504e89759e9d23039b7b17ec14  Живу сейчас обломами, обломками не той любви\\nПопытками не то любить, что нужно\\nТеряю смысл, ну и пусть, невыносимой стала грусть\\nИ в комнате, что с потолком мне чужда\\n\\nЯ б уплыла в океан, сшила б красный сарафан, и... И...\\nЯ б забыла, что т...  1c4b1230f937e4c548ff732523214dcd\n",
       "1  0c749bc3f01eb8e6cf986fa14ccfc585  Tell me your fable\\nA fable\\nTell me your fable\\nTell me your fable\\nTell me your fable\\nA fable\\nTell me your fable\\nTalk to me, tenderly\\nShow reality, fantasy\\nWe'll bound together\\nAll win in one feat\\nTalk to me, tenderly\\nShow reality, fant...  0faea89b0d7d6235b5b74def72511bd8\n",
       "2  e2c8830fbc86e5964478243099eec23a  You're ashamed about all your fears and doubts\\nAnd how I hurt you\\nCan you make it back from the aftermath?\\nAnd how I left you\\nNobody wants to be alone\\nWith the fear of letting go\\nIf you could hear me say it's gonna be ok\\nWould you be ok?\\n...  9c6dc41d5ccd9968d07f055da5d8f741\n",
       "3  e2c8830fbc86e5964478243099eec23a  You're ashamed about all your fears and doubts\\nAnd how I hurt you\\nCan you make it back from the aftermath?\\nAnd how I left you\\nNobody wants to be alone\\nWith the fear of letting go\\nIf you could hear me say it's gonna be ok\\nWould you be ok?\\n...  bfd04a73e9cffdf0e282c92219a86ea1\n",
       "4  7624653ca8522ba93470843c74961b7d  You showed him all the best of you,\\nBut I'm afraid your best wasn't good enough\\nAnd know he never wanted you at least not the way\\nYou wanted yourself to be loved\\nAnd you feel like you were a mistake\\nHe's not worth all those tears that won't ...  8d70930d09cd239c948408d1317d8659"
      ]
     },
     "execution_count": 24,
     "metadata": {},
     "output_type": "execute_result"
    }
   ],
   "source": [
    "lyrics.head()"
   ]
  },
  {
   "cell_type": "code",
   "execution_count": 25,
   "id": "f52c9042",
   "metadata": {},
   "outputs": [
    {
     "name": "stdout",
     "output_type": "stream",
     "text": [
      "<class 'pandas.core.frame.DataFrame'>\n",
      "RangeIndex: 11414 entries, 0 to 11413\n",
      "Data columns (total 3 columns):\n",
      " #   Column    Non-Null Count  Dtype \n",
      "---  ------    --------------  ----- \n",
      " 0   lyricId   11414 non-null  object\n",
      " 1   text      11414 non-null  object\n",
      " 2   track_id  11414 non-null  object\n",
      "dtypes: object(3)\n",
      "memory usage: 267.6+ KB\n"
     ]
    }
   ],
   "source": [
    "lyrics.info()"
   ]
  },
  {
   "cell_type": "markdown",
   "id": "a6531c2b",
   "metadata": {},
   "source": [
    "Есть некоторое количество дубликатов по `track_id` с разными текстами."
   ]
  },
  {
   "cell_type": "code",
   "execution_count": 26,
   "id": "bcdd72ee",
   "metadata": {},
   "outputs": [
    {
     "data": {
      "text/html": [
       "<div>\n",
       "<style scoped>\n",
       "    .dataframe tbody tr th:only-of-type {\n",
       "        vertical-align: middle;\n",
       "    }\n",
       "\n",
       "    .dataframe tbody tr th {\n",
       "        vertical-align: top;\n",
       "    }\n",
       "\n",
       "    .dataframe thead th {\n",
       "        text-align: right;\n",
       "    }\n",
       "</style>\n",
       "<table border=\"1\" class=\"dataframe\">\n",
       "  <thead>\n",
       "    <tr style=\"text-align: right;\">\n",
       "      <th></th>\n",
       "      <th>lyricId</th>\n",
       "      <th>text</th>\n",
       "      <th>track_id</th>\n",
       "    </tr>\n",
       "  </thead>\n",
       "  <tbody>\n",
       "    <tr>\n",
       "      <th>9220</th>\n",
       "      <td>6e3781576e60cfbee15f65d626ac130a</td>\n",
       "      <td>If I stay with you, if I'm choosing wrong\\nI don't care at all\\nIf I'm loosing now, but I'm winning late\\nThat's all I want\\n\\nNow we need some space 'cause I feel for you\\nAnd I wanna change\\nGrowing up alone, it seems so short\\nI can't explain\\...</td>\n",
       "      <td>0102189356af15ad0be804eddd9bc24a</td>\n",
       "    </tr>\n",
       "    <tr>\n",
       "      <th>11306</th>\n",
       "      <td>1682f991cfa94d1440bef2aa417edec7</td>\n",
       "      <td>If I stay with you, if I'm choosing wrong\\nI don't care at all\\nIf I'm losing now, but I'm winning late\\nThat's all I want\\n\\nNow we need some space 'cause I feel for you\\nAnd I wanna change\\nGrowing up alone, it seems so short\\nI can't explain\\n...</td>\n",
       "      <td>0102189356af15ad0be804eddd9bc24a</td>\n",
       "    </tr>\n",
       "    <tr>\n",
       "      <th>4796</th>\n",
       "      <td>9ee5ee7522b5b6d045a2d276a040d00c</td>\n",
       "      <td>If I stay with you, if I'm choosing wrong\\nI don't care at all\\nIf I'm losing now, but I'm winning late\\nThat's all I want\\n\\nNow we need some space, 'cause I feel for you\\nAnd I wanna change\\nGrowing up alone, it seems so short\\nI can't explain\\...</td>\n",
       "      <td>0102189356af15ad0be804eddd9bc24a</td>\n",
       "    </tr>\n",
       "    <tr>\n",
       "      <th>591</th>\n",
       "      <td>bedce0b0814eae28831dfe3013b62dd9</td>\n",
       "      <td>Well sometimes I go out by myself\\nAnd I look across the water\\nAnd I think of all the things, what you're doing\\nAnd in my head I paint a picture\\n\\n'Cause since I've come on home\\nWell my body's been a mess\\nAnd I've missed your ginger hair\\nAn...</td>\n",
       "      <td>02db8e8e8d3c08f3a57cc6db3876f942</td>\n",
       "    </tr>\n",
       "    <tr>\n",
       "      <th>9392</th>\n",
       "      <td>e4e8784e327f01cfcfbedc1fcfbe8dc9</td>\n",
       "      <td>Well, sometimes I go out by myself\\nAnd I look across the water\\nAnd I think of all the things, what you're doing\\nAnd in my head I paint a picture\\n\\n'Cause since I've come on home\\nWell, my body's been a mess\\nAnd I miss your ginger hair\\nAnd t...</td>\n",
       "      <td>02db8e8e8d3c08f3a57cc6db3876f942</td>\n",
       "    </tr>\n",
       "    <tr>\n",
       "      <th>8330</th>\n",
       "      <td>52d3570b1f1e50113f10cdd65869614e</td>\n",
       "      <td>Well sometimes I go out by myself\\nAnd I look across the water\\nAnd I think of all the things, what you're doing\\nAnd in my head I paint a picture\\n\\nCos since I've come on home,\\nWell my body's been a mess\\nAnd I've missed your ginger hair\\nAnd ...</td>\n",
       "      <td>02db8e8e8d3c08f3a57cc6db3876f942</td>\n",
       "    </tr>\n",
       "    <tr>\n",
       "      <th>11307</th>\n",
       "      <td>ea7ee0e977851b765b651b10d20e6ac8</td>\n",
       "      <td>Hey, little girl, is your daddy home?\\nDid he go and leave you all alone?\\nI got a bad desire\\nOh-oh-oh, I'm on fire\\n\\nTell me now, baby, is he good to you?\\nAnd can he do you the things that I can't do?\\nI can take you higher\\nOh-oh-oh, I'm on ...</td>\n",
       "      <td>034496119fa3c7afd56db09aa04aca15</td>\n",
       "    </tr>\n",
       "    <tr>\n",
       "      <th>4869</th>\n",
       "      <td>160d71605ca3b3f2f1c1c9b335178c80</td>\n",
       "      <td>Hey little girl, is your daddy home\\nDid he go and leave you all alone?\\nI got a bad desire\\nOh oh oh, I'm on fire\\n\\nTell me now babe, is he good to you\\nCan he do to you the things that I can't do\\nI can take you high\\nOh oh oh, I'm on fire\\n\\n...</td>\n",
       "      <td>034496119fa3c7afd56db09aa04aca15</td>\n",
       "    </tr>\n",
       "    <tr>\n",
       "      <th>7159</th>\n",
       "      <td>7f31a171e47799a0beb95322797f300a</td>\n",
       "      <td>Hey girl, is he everything you wanted in a man??\\nYou know I gave you the world\\nYou had me in the palm of your hand\\nSo why your love went away?\\nI just can't seem to understand\\nThought it was me and you, babe\\nMe and you until the end\\nBut I g...</td>\n",
       "      <td>03db8e9cd7ff3f1b7835ca8fe31351d1</td>\n",
       "    </tr>\n",
       "    <tr>\n",
       "      <th>2255</th>\n",
       "      <td>6f4287d5fc4129025b4823d3bf53f813</td>\n",
       "      <td>Hey girl, is he everything you wanted in a man?\\nYou know I gave you the world\\nYou had me in the palm of your hand\\nSo why your love went away?\\nI just can't seem to understand\\nThought it was me and you, babe\\nMe and you until the end\\nBut I gu...</td>\n",
       "      <td>03db8e9cd7ff3f1b7835ca8fe31351d1</td>\n",
       "    </tr>\n",
       "  </tbody>\n",
       "</table>\n",
       "</div>"
      ],
      "text/plain": [
       "                                lyricId                                                                                                                                                                                                                                                       text                          track_id\n",
       "9220   6e3781576e60cfbee15f65d626ac130a  If I stay with you, if I'm choosing wrong\\nI don't care at all\\nIf I'm loosing now, but I'm winning late\\nThat's all I want\\n\\nNow we need some space 'cause I feel for you\\nAnd I wanna change\\nGrowing up alone, it seems so short\\nI can't explain\\...  0102189356af15ad0be804eddd9bc24a\n",
       "11306  1682f991cfa94d1440bef2aa417edec7  If I stay with you, if I'm choosing wrong\\nI don't care at all\\nIf I'm losing now, but I'm winning late\\nThat's all I want\\n\\nNow we need some space 'cause I feel for you\\nAnd I wanna change\\nGrowing up alone, it seems so short\\nI can't explain\\n...  0102189356af15ad0be804eddd9bc24a\n",
       "4796   9ee5ee7522b5b6d045a2d276a040d00c  If I stay with you, if I'm choosing wrong\\nI don't care at all\\nIf I'm losing now, but I'm winning late\\nThat's all I want\\n\\nNow we need some space, 'cause I feel for you\\nAnd I wanna change\\nGrowing up alone, it seems so short\\nI can't explain\\...  0102189356af15ad0be804eddd9bc24a\n",
       "591    bedce0b0814eae28831dfe3013b62dd9  Well sometimes I go out by myself\\nAnd I look across the water\\nAnd I think of all the things, what you're doing\\nAnd in my head I paint a picture\\n\\n'Cause since I've come on home\\nWell my body's been a mess\\nAnd I've missed your ginger hair\\nAn...  02db8e8e8d3c08f3a57cc6db3876f942\n",
       "9392   e4e8784e327f01cfcfbedc1fcfbe8dc9  Well, sometimes I go out by myself\\nAnd I look across the water\\nAnd I think of all the things, what you're doing\\nAnd in my head I paint a picture\\n\\n'Cause since I've come on home\\nWell, my body's been a mess\\nAnd I miss your ginger hair\\nAnd t...  02db8e8e8d3c08f3a57cc6db3876f942\n",
       "8330   52d3570b1f1e50113f10cdd65869614e  Well sometimes I go out by myself\\nAnd I look across the water\\nAnd I think of all the things, what you're doing\\nAnd in my head I paint a picture\\n\\nCos since I've come on home,\\nWell my body's been a mess\\nAnd I've missed your ginger hair\\nAnd ...  02db8e8e8d3c08f3a57cc6db3876f942\n",
       "11307  ea7ee0e977851b765b651b10d20e6ac8  Hey, little girl, is your daddy home?\\nDid he go and leave you all alone?\\nI got a bad desire\\nOh-oh-oh, I'm on fire\\n\\nTell me now, baby, is he good to you?\\nAnd can he do you the things that I can't do?\\nI can take you higher\\nOh-oh-oh, I'm on ...  034496119fa3c7afd56db09aa04aca15\n",
       "4869   160d71605ca3b3f2f1c1c9b335178c80  Hey little girl, is your daddy home\\nDid he go and leave you all alone?\\nI got a bad desire\\nOh oh oh, I'm on fire\\n\\nTell me now babe, is he good to you\\nCan he do to you the things that I can't do\\nI can take you high\\nOh oh oh, I'm on fire\\n\\n...  034496119fa3c7afd56db09aa04aca15\n",
       "7159   7f31a171e47799a0beb95322797f300a  Hey girl, is he everything you wanted in a man??\\nYou know I gave you the world\\nYou had me in the palm of your hand\\nSo why your love went away?\\nI just can't seem to understand\\nThought it was me and you, babe\\nMe and you until the end\\nBut I g...  03db8e9cd7ff3f1b7835ca8fe31351d1\n",
       "2255   6f4287d5fc4129025b4823d3bf53f813  Hey girl, is he everything you wanted in a man?\\nYou know I gave you the world\\nYou had me in the palm of your hand\\nSo why your love went away?\\nI just can't seem to understand\\nThought it was me and you, babe\\nMe and you until the end\\nBut I gu...  03db8e9cd7ff3f1b7835ca8fe31351d1"
      ]
     },
     "execution_count": 26,
     "metadata": {},
     "output_type": "execute_result"
    }
   ],
   "source": [
    "lyrics[(lyrics['track_id'].duplicated(keep=False) == True) &\n",
    "       (lyrics['text'].duplicated() == False)].sort_values(by='track_id').head(10)"
   ]
  },
  {
   "cell_type": "markdown",
   "id": "e3109043",
   "metadata": {},
   "source": [
    "Вероятно, это разные источники для текстов. Не имея возможности выбрать наиболее подходящий для каждого трека, будем использовать первый из них."
   ]
  },
  {
   "cell_type": "markdown",
   "id": "7d96a648",
   "metadata": {},
   "source": [
    "### Выводы\n",
    "\n",
    "Мы осмотрели данные, почистили от явных аномалий. Ознакомились с некоторыми статистиками и особенностями наших данных. Перейдём к получению датасета для работы с моделями."
   ]
  },
  {
   "cell_type": "markdown",
   "id": "f9876a75",
   "metadata": {},
   "source": [
    "## Feature engineering"
   ]
  },
  {
   "cell_type": "markdown",
   "id": "035463ad",
   "metadata": {},
   "source": [
    "Объединим информацию из разных источников в единую сводную таблицу."
   ]
  },
  {
   "cell_type": "code",
   "execution_count": 27,
   "id": "bafc76ed",
   "metadata": {},
   "outputs": [],
   "source": [
    "df = pd.merge(covers, meta, how='left', on='track_id')\n",
    "df = pd.merge(df, lyrics, how='left', on='track_id')"
   ]
  },
  {
   "cell_type": "code",
   "execution_count": 28,
   "id": "4fb9fc5d",
   "metadata": {},
   "outputs": [
    {
     "name": "stdout",
     "output_type": "stream",
     "text": [
      "<class 'pandas.core.frame.DataFrame'>\n",
      "Int64Index: 72571 entries, 0 to 72570\n",
      "Data columns (total 11 columns):\n",
      " #   Column             Non-Null Count  Dtype         \n",
      "---  ------             --------------  -----         \n",
      " 0   original_track_id  5378 non-null   object        \n",
      " 1   track_id           72571 non-null  object        \n",
      " 2   track_remake_type  72571 non-null  object        \n",
      " 3   dttm               72571 non-null  datetime64[ns]\n",
      " 4   title              72571 non-null  object        \n",
      " 5   language           22598 non-null  object        \n",
      " 6   isrc               72242 non-null  object        \n",
      " 7   genres             72571 non-null  object        \n",
      " 8   duration           72571 non-null  float64       \n",
      " 9   lyricId            11097 non-null  object        \n",
      " 10  text               11097 non-null  object        \n",
      "dtypes: datetime64[ns](1), float64(1), object(9)\n",
      "memory usage: 6.6+ MB\n"
     ]
    }
   ],
   "source": [
    "df.info()"
   ]
  },
  {
   "cell_type": "code",
   "execution_count": 29,
   "id": "32a8622c",
   "metadata": {},
   "outputs": [
    {
     "data": {
      "text/html": [
       "<div>\n",
       "<style scoped>\n",
       "    .dataframe tbody tr th:only-of-type {\n",
       "        vertical-align: middle;\n",
       "    }\n",
       "\n",
       "    .dataframe tbody tr th {\n",
       "        vertical-align: top;\n",
       "    }\n",
       "\n",
       "    .dataframe thead th {\n",
       "        text-align: right;\n",
       "    }\n",
       "</style>\n",
       "<table border=\"1\" class=\"dataframe\">\n",
       "  <thead>\n",
       "    <tr style=\"text-align: right;\">\n",
       "      <th></th>\n",
       "      <th>original_track_id</th>\n",
       "      <th>track_id</th>\n",
       "      <th>track_remake_type</th>\n",
       "      <th>dttm</th>\n",
       "      <th>title</th>\n",
       "      <th>language</th>\n",
       "      <th>isrc</th>\n",
       "      <th>genres</th>\n",
       "      <th>duration</th>\n",
       "      <th>lyricId</th>\n",
       "      <th>text</th>\n",
       "    </tr>\n",
       "  </thead>\n",
       "  <tbody>\n",
       "    <tr>\n",
       "      <th>0</th>\n",
       "      <td>eeb69a3cb92300456b6a5f4162093851</td>\n",
       "      <td>eeb69a3cb92300456b6a5f4162093851</td>\n",
       "      <td>ORIGINAL</td>\n",
       "      <td>2009-11-11 21:00:00</td>\n",
       "      <td>Proud Mary</td>\n",
       "      <td>EN</td>\n",
       "      <td>USFI86900049</td>\n",
       "      <td>[ROCK, ALLROCK]</td>\n",
       "      <td>187220.000</td>\n",
       "      <td>260f21d9f48e8de874a6e844159ddf28</td>\n",
       "      <td>Left a good job in the city\\nWorkin' for the man ev'ry night and day\\nAnd I never lost one minute of sleepin'\\nWorryin' 'bout the way things might have been\\n\\nBig wheel keep on turnin'\\nProud Mary keep on burnin'\\nRollin', rollin', rollin' on th...</td>\n",
       "    </tr>\n",
       "    <tr>\n",
       "      <th>1</th>\n",
       "      <td>eeb69a3cb92300456b6a5f4162093851</td>\n",
       "      <td>eeb69a3cb92300456b6a5f4162093851</td>\n",
       "      <td>ORIGINAL</td>\n",
       "      <td>2009-11-11 21:00:00</td>\n",
       "      <td>Proud Mary</td>\n",
       "      <td>EN</td>\n",
       "      <td>USFI86900049</td>\n",
       "      <td>[ROCK, ALLROCK]</td>\n",
       "      <td>187220.000</td>\n",
       "      <td>f3331cf99637ee24559242d13d8cf259</td>\n",
       "      <td>Left a good job in the city\\nWorkin' for the man every night and day\\nAnd I never lost one minute of sleepin'\\nWorryin' 'bout the way things might have been\\n\\nBig wheel keep on turnin'\\nProud Mary keep on burnin'\\nRollin', rollin'\\nRollin' on th...</td>\n",
       "    </tr>\n",
       "    <tr>\n",
       "      <th>2</th>\n",
       "      <td>fe7ee8fc1959cc7214fa21c4840dff0a</td>\n",
       "      <td>fe7ee8fc1959cc7214fa21c4840dff0a</td>\n",
       "      <td>ORIGINAL</td>\n",
       "      <td>2009-11-11 21:00:00</td>\n",
       "      <td>Fortunate Son</td>\n",
       "      <td>EN</td>\n",
       "      <td>USFI86900065</td>\n",
       "      <td>[ROCK, ALLROCK]</td>\n",
       "      <td>137780.000</td>\n",
       "      <td>2498827bd11eca5846270487e4960080</td>\n",
       "      <td>Some folks are born made to wave the flag\\nOoh, they're red, white and blue\\nAnd when the band plays \"Hail to the Chief\"\\nOoh, they point the cannon at you, Lord\\n\\nIt ain't me, it ain't me\\nI ain't no senator's son, son\\nIt ain't me, it ain't me...</td>\n",
       "    </tr>\n",
       "    <tr>\n",
       "      <th>3</th>\n",
       "      <td>cd89fef7ffdd490db800357f47722b20</td>\n",
       "      <td>cd89fef7ffdd490db800357f47722b20</td>\n",
       "      <td>ORIGINAL</td>\n",
       "      <td>2009-09-21 20:00:00</td>\n",
       "      <td>La Camisa Negra</td>\n",
       "      <td>ES</td>\n",
       "      <td>USUL10400965</td>\n",
       "      <td>[POP, FOLK, LATINFOLK]</td>\n",
       "      <td>216840.000</td>\n",
       "      <td>5237001311d4062bf2b80de30652bf58</td>\n",
       "      <td>Uno por pobre y feo, hombre\\nPero antoja'o, ay ome\\n\\nTengo la camisa negra\\nHoy mi amor está de luto\\nHoy tengo en el alma una pena\\nY es por culpa de tu embrujo\\n\\nHoy sé que tú ya no me quieres\\nY eso es lo que más me hiere\\nQue tengo la camis...</td>\n",
       "    </tr>\n",
       "    <tr>\n",
       "      <th>4</th>\n",
       "      <td>995665640dc319973d3173a74a03860c</td>\n",
       "      <td>995665640dc319973d3173a74a03860c</td>\n",
       "      <td>ORIGINAL</td>\n",
       "      <td>2009-11-16 21:00:00</td>\n",
       "      <td>The Way I Are</td>\n",
       "      <td>EN</td>\n",
       "      <td>USUM70722806</td>\n",
       "      <td>[FOREIGNRAP, RAP]</td>\n",
       "      <td>179660.000</td>\n",
       "      <td>e5b1b57090b728e8d98d2b4d9b781bf4</td>\n",
       "      <td>Yeah!... yeah!... remember the time, baby... yeah!\\n\\nI ain't got no money\\nI ain't got no car to take you on a date\\nI can't even buy you flowers\\nBut together we'd be the perfect soulmates\\nTalk to me girl\\n\\n(Oh) Baby, it's alright now, you ai...</td>\n",
       "    </tr>\n",
       "  </tbody>\n",
       "</table>\n",
       "</div>"
      ],
      "text/plain": [
       "                  original_track_id                          track_id track_remake_type                dttm            title language          isrc                  genres   duration                           lyricId                                                                                                                                                                                                                                                       text\n",
       "0  eeb69a3cb92300456b6a5f4162093851  eeb69a3cb92300456b6a5f4162093851          ORIGINAL 2009-11-11 21:00:00       Proud Mary       EN  USFI86900049         [ROCK, ALLROCK] 187220.000  260f21d9f48e8de874a6e844159ddf28  Left a good job in the city\\nWorkin' for the man ev'ry night and day\\nAnd I never lost one minute of sleepin'\\nWorryin' 'bout the way things might have been\\n\\nBig wheel keep on turnin'\\nProud Mary keep on burnin'\\nRollin', rollin', rollin' on th...\n",
       "1  eeb69a3cb92300456b6a5f4162093851  eeb69a3cb92300456b6a5f4162093851          ORIGINAL 2009-11-11 21:00:00       Proud Mary       EN  USFI86900049         [ROCK, ALLROCK] 187220.000  f3331cf99637ee24559242d13d8cf259  Left a good job in the city\\nWorkin' for the man every night and day\\nAnd I never lost one minute of sleepin'\\nWorryin' 'bout the way things might have been\\n\\nBig wheel keep on turnin'\\nProud Mary keep on burnin'\\nRollin', rollin'\\nRollin' on th...\n",
       "2  fe7ee8fc1959cc7214fa21c4840dff0a  fe7ee8fc1959cc7214fa21c4840dff0a          ORIGINAL 2009-11-11 21:00:00    Fortunate Son       EN  USFI86900065         [ROCK, ALLROCK] 137780.000  2498827bd11eca5846270487e4960080  Some folks are born made to wave the flag\\nOoh, they're red, white and blue\\nAnd when the band plays \"Hail to the Chief\"\\nOoh, they point the cannon at you, Lord\\n\\nIt ain't me, it ain't me\\nI ain't no senator's son, son\\nIt ain't me, it ain't me...\n",
       "3  cd89fef7ffdd490db800357f47722b20  cd89fef7ffdd490db800357f47722b20          ORIGINAL 2009-09-21 20:00:00  La Camisa Negra       ES  USUL10400965  [POP, FOLK, LATINFOLK] 216840.000  5237001311d4062bf2b80de30652bf58  Uno por pobre y feo, hombre\\nPero antoja'o, ay ome\\n\\nTengo la camisa negra\\nHoy mi amor está de luto\\nHoy tengo en el alma una pena\\nY es por culpa de tu embrujo\\n\\nHoy sé que tú ya no me quieres\\nY eso es lo que más me hiere\\nQue tengo la camis...\n",
       "4  995665640dc319973d3173a74a03860c  995665640dc319973d3173a74a03860c          ORIGINAL 2009-11-16 21:00:00    The Way I Are       EN  USUM70722806       [FOREIGNRAP, RAP] 179660.000  e5b1b57090b728e8d98d2b4d9b781bf4  Yeah!... yeah!... remember the time, baby... yeah!\\n\\nI ain't got no money\\nI ain't got no car to take you on a date\\nI can't even buy you flowers\\nBut together we'd be the perfect soulmates\\nTalk to me girl\\n\\n(Oh) Baby, it's alright now, you ai..."
      ]
     },
     "execution_count": 29,
     "metadata": {},
     "output_type": "execute_result"
    }
   ],
   "source": [
    "df.head()"
   ]
  },
  {
   "cell_type": "markdown",
   "id": "2101cb5f",
   "metadata": {},
   "source": [
    "В связи с выбранной стратегией - наша первая задача - получить векторные представления для треков к которым есть тексты. Поэтому сначала почистим полученный датасет. Избавимся от треков к которым нет текстов."
   ]
  },
  {
   "cell_type": "code",
   "execution_count": 30,
   "id": "078443b0",
   "metadata": {},
   "outputs": [],
   "source": [
    "df.dropna(subset=['text'], inplace=True)"
   ]
  },
  {
   "cell_type": "markdown",
   "id": "15e096d1",
   "metadata": {},
   "source": [
    "Избавимся от неинформативных столбцов, повторов по `track_id`."
   ]
  },
  {
   "cell_type": "code",
   "execution_count": 31,
   "id": "b7bacf19",
   "metadata": {},
   "outputs": [],
   "source": [
    "df.drop(columns=['isrc', 'genres', 'lyricId'], inplace=True)"
   ]
  },
  {
   "cell_type": "code",
   "execution_count": 32,
   "id": "d8e473ed",
   "metadata": {},
   "outputs": [],
   "source": [
    "df.drop_duplicates(subset=['track_id'], inplace=True, ignore_index=True)"
   ]
  },
  {
   "cell_type": "code",
   "execution_count": 33,
   "id": "a23114bf",
   "metadata": {},
   "outputs": [
    {
     "name": "stdout",
     "output_type": "stream",
     "text": [
      "<class 'pandas.core.frame.DataFrame'>\n",
      "RangeIndex: 10123 entries, 0 to 10122\n",
      "Data columns (total 8 columns):\n",
      " #   Column             Non-Null Count  Dtype         \n",
      "---  ------             --------------  -----         \n",
      " 0   original_track_id  3042 non-null   object        \n",
      " 1   track_id           10123 non-null  object        \n",
      " 2   track_remake_type  10123 non-null  object        \n",
      " 3   dttm               10123 non-null  datetime64[ns]\n",
      " 4   title              10123 non-null  object        \n",
      " 5   language           6297 non-null   object        \n",
      " 6   duration           10123 non-null  float64       \n",
      " 7   text               10123 non-null  object        \n",
      "dtypes: datetime64[ns](1), float64(1), object(6)\n",
      "memory usage: 632.8+ KB\n"
     ]
    }
   ],
   "source": [
    "df.info()"
   ]
  },
  {
   "cell_type": "code",
   "execution_count": 34,
   "id": "77eebce3",
   "metadata": {},
   "outputs": [
    {
     "data": {
      "text/plain": [
       "<AxesSubplot:xlabel='track_remake_type', ylabel='count'>"
      ]
     },
     "execution_count": 34,
     "metadata": {},
     "output_type": "execute_result"
    },
    {
     "data": {
      "image/png": "[encoded data removed]",
      "text/plain": [
       "<Figure size 640x480 with 1 Axes>"
      ]
     },
     "metadata": {},
     "output_type": "display_data"
    }
   ],
   "source": [
    "sns.countplot(data=df, x='track_remake_type')"
   ]
  },
  {
   "cell_type": "markdown",
   "id": "64dbc068",
   "metadata": {},
   "source": [
    "Обработаем тексты. Для начала очистим их и переведём в единый регистр."
   ]
  },
  {
   "cell_type": "code",
   "execution_count": 35,
   "id": "401ca527",
   "metadata": {},
   "outputs": [],
   "source": [
    "def cleaning(row):\n",
    "    text = re.sub('[^a-zA-Z\\'\\u00C0-\\u1FFF\\u2C00-\\uD7FF\\w]', ' ', row['text']).lower().strip()\n",
    "    title = re.sub('[^a-zA-Z\\'\\u00C0-\\u1FFF\\u2C00-\\uD7FF\\w]', ' ', row['title']).lower().strip()\n",
    "    row['text'] = text\n",
    "    row['title'] = title\n",
    "    return row\n",
    "\n",
    "df = df.apply(cleaning, axis=1)"
   ]
  },
  {
   "cell_type": "markdown",
   "id": "f79a7442",
   "metadata": {},
   "source": [
    "Соберём все тексты в списки."
   ]
  },
  {
   "cell_type": "code",
   "execution_count": 36,
   "id": "955f9f93",
   "metadata": {},
   "outputs": [
    {
     "name": "stdout",
     "output_type": "stream",
     "text": [
      "10123 10123\n"
     ]
    }
   ],
   "source": [
    "texts = df['text'].to_list()\n",
    "titles = df['title'].to_list()\n",
    "print(len(texts), len(titles))"
   ]
  },
  {
   "cell_type": "markdown",
   "id": "25f8e684",
   "metadata": {},
   "source": [
    "Убедимся что GPU доступна."
   ]
  },
  {
   "cell_type": "code",
   "execution_count": 37,
   "id": "03e82453",
   "metadata": {},
   "outputs": [
    {
     "name": "stdout",
     "output_type": "stream",
     "text": [
      "torch.cuda.is_available()  True\n",
      "torch.cuda.current_device()  0\n",
      "torch.cuda.device_count() 1\n",
      "torch.cuda.get_device_name(0) NVIDIA GeForce GTX 970\n",
      "cuda:0\n"
     ]
    }
   ],
   "source": [
    "print('torch.cuda.is_available() ', torch.cuda.is_available())\n",
    "print('torch.cuda.current_device() ', torch.cuda.current_device())\n",
    "print('torch.cuda.device_count()', torch.cuda.device_count())\n",
    "print('torch.cuda.get_device_name(0)', torch.cuda.get_device_name(0))\n",
    "\n",
    "device = torch.device('cuda:0' if torch.cuda.is_available() else 'cpu')\n",
    "print(device)\n",
    "None"
   ]
  },
  {
   "cell_type": "markdown",
   "id": "dbe8a188",
   "metadata": {},
   "source": [
    "Загрузим модель LaBSE. В основе трансформер BERT обученный на 109 языках."
   ]
  },
  {
   "cell_type": "code",
   "execution_count": 38,
   "id": "a0039ecd",
   "metadata": {},
   "outputs": [],
   "source": [
    "model = SentenceTransformer('sentence-transformers/LaBSE')"
   ]
  },
  {
   "cell_type": "markdown",
   "id": "b6dcb329",
   "metadata": {},
   "source": [
    "Получим эмбеддинги."
   ]
  },
  {
   "cell_type": "code",
   "execution_count": 39,
   "id": "67f30e9d",
   "metadata": {},
   "outputs": [
    {
     "name": "stdout",
     "output_type": "stream",
     "text": [
      "CPU times: total: 7min 23s\n",
      "Wall time: 7min 10s\n"
     ]
    }
   ],
   "source": [
    "%%time\n",
    "embeddings = model.encode(texts)\n",
    "title_embeddings = model.encode(titles)"
   ]
  },
  {
   "cell_type": "code",
   "execution_count": 40,
   "id": "71a3d854",
   "metadata": {},
   "outputs": [],
   "source": [
    "torch.cuda.empty_cache()\n",
    "None"
   ]
  },
  {
   "cell_type": "code",
   "execution_count": 41,
   "id": "14886b5f",
   "metadata": {},
   "outputs": [
    {
     "data": {
      "text/plain": [
       "(10123, 768)"
      ]
     },
     "execution_count": 41,
     "metadata": {},
     "output_type": "execute_result"
    }
   ],
   "source": [
    "embeddings.shape"
   ]
  },
  {
   "cell_type": "code",
   "execution_count": 42,
   "id": "3991b266",
   "metadata": {},
   "outputs": [
    {
     "data": {
      "text/plain": [
       "(10123, 768)"
      ]
     },
     "execution_count": 42,
     "metadata": {},
     "output_type": "execute_result"
    }
   ],
   "source": [
    "title_embeddings.shape"
   ]
  },
  {
   "cell_type": "markdown",
   "id": "32f181c2",
   "metadata": {},
   "source": [
    "Присоединим энкодинги к датасету."
   ]
  },
  {
   "cell_type": "code",
   "execution_count": 43,
   "id": "60d7d8c4",
   "metadata": {},
   "outputs": [],
   "source": [
    "df['embeddings'] = embeddings.tolist()\n",
    "df['title_embeddings'] = title_embeddings.tolist()"
   ]
  },
  {
   "cell_type": "markdown",
   "id": "9dc9a311",
   "metadata": {},
   "source": [
    "Проверим результат."
   ]
  },
  {
   "cell_type": "code",
   "execution_count": 44,
   "id": "269884de",
   "metadata": {},
   "outputs": [
    {
     "data": {
      "text/html": [
       "<div>\n",
       "<style scoped>\n",
       "    .dataframe tbody tr th:only-of-type {\n",
       "        vertical-align: middle;\n",
       "    }\n",
       "\n",
       "    .dataframe tbody tr th {\n",
       "        vertical-align: top;\n",
       "    }\n",
       "\n",
       "    .dataframe thead th {\n",
       "        text-align: right;\n",
       "    }\n",
       "</style>\n",
       "<table border=\"1\" class=\"dataframe\">\n",
       "  <thead>\n",
       "    <tr style=\"text-align: right;\">\n",
       "      <th></th>\n",
       "      <th>original_track_id</th>\n",
       "      <th>track_id</th>\n",
       "      <th>track_remake_type</th>\n",
       "      <th>dttm</th>\n",
       "      <th>title</th>\n",
       "      <th>language</th>\n",
       "      <th>duration</th>\n",
       "      <th>text</th>\n",
       "      <th>embeddings</th>\n",
       "      <th>title_embeddings</th>\n",
       "    </tr>\n",
       "  </thead>\n",
       "  <tbody>\n",
       "    <tr>\n",
       "      <th>0</th>\n",
       "      <td>eeb69a3cb92300456b6a5f4162093851</td>\n",
       "      <td>eeb69a3cb92300456b6a5f4162093851</td>\n",
       "      <td>ORIGINAL</td>\n",
       "      <td>2009-11-11 21:00:00</td>\n",
       "      <td>proud mary</td>\n",
       "      <td>EN</td>\n",
       "      <td>187220.000</td>\n",
       "      <td>left a good job in the city workin' for the man ev'ry night and day and i never lost one minute of sleepin' worryin' 'bout the way things might have been  big wheel keep on turnin' proud mary keep on burnin' rollin'  rollin'  rollin' on the river...</td>\n",
       "      <td>[-0.050590965896844864, 0.012209675274789333, 0.001305880374275148, -0.07543127238750458, -0.00678922887891531, 0.006507829297333956, -0.054885830730199814, -0.02974664606153965, 0.03764769062399864, -0.013026924803853035, -0.028788456693291664, ...</td>\n",
       "      <td>[0.015319151803851128, -0.020575083792209625, 0.04910973459482193, -0.049113448709249496, 0.008503860794007778, -0.011785788461565971, -0.015698367729783058, 0.034062594175338745, -0.027196429669857025, 0.0039495015516877174, -0.01361836865544319...</td>\n",
       "    </tr>\n",
       "    <tr>\n",
       "      <th>1</th>\n",
       "      <td>fe7ee8fc1959cc7214fa21c4840dff0a</td>\n",
       "      <td>fe7ee8fc1959cc7214fa21c4840dff0a</td>\n",
       "      <td>ORIGINAL</td>\n",
       "      <td>2009-11-11 21:00:00</td>\n",
       "      <td>fortunate son</td>\n",
       "      <td>EN</td>\n",
       "      <td>137780.000</td>\n",
       "      <td>some folks are born made to wave the flag ooh  they're red  white and blue and when the band plays  hail to the chief  ooh  they point the cannon at you  lord  it ain't me  it ain't me i ain't no senator's son  son it ain't me  it ain't me i ain'...</td>\n",
       "      <td>[-0.027721567079424858, 0.01549859531223774, -0.02412036992609501, -0.05025006830692291, -0.027913503348827362, 0.017961055040359497, -0.029539937153458595, -0.025898190215229988, 0.011355213820934296, -0.017320213839411736, 0.009613011963665485,...</td>\n",
       "      <td>[-0.04015070199966431, -0.007268587592989206, -0.0357542559504509, -0.038561392575502396, 0.002995580667629838, 0.02151617407798767, 0.003989551216363907, -0.004519234877079725, -0.06443610042333603, -0.04865966737270355, 0.008546262048184872, 0....</td>\n",
       "    </tr>\n",
       "    <tr>\n",
       "      <th>2</th>\n",
       "      <td>cd89fef7ffdd490db800357f47722b20</td>\n",
       "      <td>cd89fef7ffdd490db800357f47722b20</td>\n",
       "      <td>ORIGINAL</td>\n",
       "      <td>2009-09-21 20:00:00</td>\n",
       "      <td>la camisa negra</td>\n",
       "      <td>ES</td>\n",
       "      <td>216840.000</td>\n",
       "      <td>uno por pobre y feo  hombre pero antoja'o  ay ome  tengo la camisa negra hoy mi amor está de luto hoy tengo en el alma una pena y es por culpa de tu embrujo  hoy sé que tú ya no me quieres y eso es lo que más me hiere que tengo la camisa negra y ...</td>\n",
       "      <td>[-0.04280870780348778, -0.0458928607404232, -0.023140158504247665, -0.06842359155416489, -0.010640840977430344, 0.00496312603354454, -0.0626155287027359, 0.002434623194858432, 0.035209521651268005, -0.030234551057219505, 0.0193279217928648, -0.03...</td>\n",
       "      <td>[-0.03399386629462242, -0.0004971372545696795, 0.01695762760937214, -0.05621883645653725, 0.0514611080288887, 0.023097459226846695, 0.006508655846118927, 0.04137822240591049, -0.04644152149558067, -0.029503053054213524, 0.03082728013396263, -0.03...</td>\n",
       "    </tr>\n",
       "    <tr>\n",
       "      <th>3</th>\n",
       "      <td>995665640dc319973d3173a74a03860c</td>\n",
       "      <td>995665640dc319973d3173a74a03860c</td>\n",
       "      <td>ORIGINAL</td>\n",
       "      <td>2009-11-16 21:00:00</td>\n",
       "      <td>the way i are</td>\n",
       "      <td>EN</td>\n",
       "      <td>179660.000</td>\n",
       "      <td>yeah     yeah     remember the time  baby    yeah   i ain't got no money i ain't got no car to take you on a date i can't even buy you flowers but together we'd be the perfect soulmates talk to me girl   oh  baby  it's alright now  you ain't gott...</td>\n",
       "      <td>[-0.011799679137766361, 0.0051587666384875774, -0.06203089654445648, -0.0674506425857544, 0.0027503950987011194, 0.03172148019075394, -0.06496895849704742, 0.016190633177757263, -0.020558254793286324, -0.04381493479013443, 0.034264106303453445, -...</td>\n",
       "      <td>[-0.020926419645547867, -0.012833914719522, -0.053437333554029465, -0.057744789868593216, 0.04365824535489082, -0.02771497704088688, 0.01882927119731903, -0.0041795880533754826, -0.06583704799413681, 0.024439938366413116, 0.04783844202756882, -0....</td>\n",
       "    </tr>\n",
       "    <tr>\n",
       "      <th>4</th>\n",
       "      <td>None</td>\n",
       "      <td>4da9d7b6d119db4d2d564a2197798380</td>\n",
       "      <td>COVER</td>\n",
       "      <td>2009-09-17 20:00:00</td>\n",
       "      <td>can't buy me love</td>\n",
       "      <td>EN</td>\n",
       "      <td>158950.000</td>\n",
       "      <td>can't buy me love can't buy me love can't buy me love  i'll buy you a diamond ring  my friend if it makes you feel alright i'll get you anything my friend if it makes you feel alright  for i don't care too much for money for money can't buy me lo...</td>\n",
       "      <td>[-0.026195090264081955, -0.020733783021569252, -0.0517747700214386, -0.06359314918518066, -0.042591169476509094, -0.03322066739201546, -0.06698507070541382, -0.004060977138578892, -0.008997571654617786, 0.028185462579131126, 0.03557342663407326, ...</td>\n",
       "      <td>[-0.0374382808804512, 0.023888064548373222, -0.05132924020290375, -0.05840529873967171, -0.02104697749018669, -0.00013814368867315352, -0.053486935794353485, -0.051029324531555176, -0.011303450912237167, 0.029573509469628334, 0.012838329188525677...</td>\n",
       "    </tr>\n",
       "  </tbody>\n",
       "</table>\n",
       "</div>"
      ],
      "text/plain": [
       "                  original_track_id                          track_id track_remake_type                dttm              title language   duration                                                                                                                                                                                                                                                       text                                                                                                                                                                                                                                                 embeddings                                                                                                                                                                                                                                           title_embeddings\n",
       "0  eeb69a3cb92300456b6a5f4162093851  eeb69a3cb92300456b6a5f4162093851          ORIGINAL 2009-11-11 21:00:00         proud mary       EN 187220.000  left a good job in the city workin' for the man ev'ry night and day and i never lost one minute of sleepin' worryin' 'bout the way things might have been  big wheel keep on turnin' proud mary keep on burnin' rollin'  rollin'  rollin' on the river...  [-0.050590965896844864, 0.012209675274789333, 0.001305880374275148, -0.07543127238750458, -0.00678922887891531, 0.006507829297333956, -0.054885830730199814, -0.02974664606153965, 0.03764769062399864, -0.013026924803853035, -0.028788456693291664, ...  [0.015319151803851128, -0.020575083792209625, 0.04910973459482193, -0.049113448709249496, 0.008503860794007778, -0.011785788461565971, -0.015698367729783058, 0.034062594175338745, -0.027196429669857025, 0.0039495015516877174, -0.01361836865544319...\n",
       "1  fe7ee8fc1959cc7214fa21c4840dff0a  fe7ee8fc1959cc7214fa21c4840dff0a          ORIGINAL 2009-11-11 21:00:00      fortunate son       EN 137780.000  some folks are born made to wave the flag ooh  they're red  white and blue and when the band plays  hail to the chief  ooh  they point the cannon at you  lord  it ain't me  it ain't me i ain't no senator's son  son it ain't me  it ain't me i ain'...  [-0.027721567079424858, 0.01549859531223774, -0.02412036992609501, -0.05025006830692291, -0.027913503348827362, 0.017961055040359497, -0.029539937153458595, -0.025898190215229988, 0.011355213820934296, -0.017320213839411736, 0.009613011963665485,...  [-0.04015070199966431, -0.007268587592989206, -0.0357542559504509, -0.038561392575502396, 0.002995580667629838, 0.02151617407798767, 0.003989551216363907, -0.004519234877079725, -0.06443610042333603, -0.04865966737270355, 0.008546262048184872, 0....\n",
       "2  cd89fef7ffdd490db800357f47722b20  cd89fef7ffdd490db800357f47722b20          ORIGINAL 2009-09-21 20:00:00    la camisa negra       ES 216840.000  uno por pobre y feo  hombre pero antoja'o  ay ome  tengo la camisa negra hoy mi amor está de luto hoy tengo en el alma una pena y es por culpa de tu embrujo  hoy sé que tú ya no me quieres y eso es lo que más me hiere que tengo la camisa negra y ...  [-0.04280870780348778, -0.0458928607404232, -0.023140158504247665, -0.06842359155416489, -0.010640840977430344, 0.00496312603354454, -0.0626155287027359, 0.002434623194858432, 0.035209521651268005, -0.030234551057219505, 0.0193279217928648, -0.03...  [-0.03399386629462242, -0.0004971372545696795, 0.01695762760937214, -0.05621883645653725, 0.0514611080288887, 0.023097459226846695, 0.006508655846118927, 0.04137822240591049, -0.04644152149558067, -0.029503053054213524, 0.03082728013396263, -0.03...\n",
       "3  995665640dc319973d3173a74a03860c  995665640dc319973d3173a74a03860c          ORIGINAL 2009-11-16 21:00:00      the way i are       EN 179660.000  yeah     yeah     remember the time  baby    yeah   i ain't got no money i ain't got no car to take you on a date i can't even buy you flowers but together we'd be the perfect soulmates talk to me girl   oh  baby  it's alright now  you ain't gott...  [-0.011799679137766361, 0.0051587666384875774, -0.06203089654445648, -0.0674506425857544, 0.0027503950987011194, 0.03172148019075394, -0.06496895849704742, 0.016190633177757263, -0.020558254793286324, -0.04381493479013443, 0.034264106303453445, -...  [-0.020926419645547867, -0.012833914719522, -0.053437333554029465, -0.057744789868593216, 0.04365824535489082, -0.02771497704088688, 0.01882927119731903, -0.0041795880533754826, -0.06583704799413681, 0.024439938366413116, 0.04783844202756882, -0....\n",
       "4                              None  4da9d7b6d119db4d2d564a2197798380             COVER 2009-09-17 20:00:00  can't buy me love       EN 158950.000  can't buy me love can't buy me love can't buy me love  i'll buy you a diamond ring  my friend if it makes you feel alright i'll get you anything my friend if it makes you feel alright  for i don't care too much for money for money can't buy me lo...  [-0.026195090264081955, -0.020733783021569252, -0.0517747700214386, -0.06359314918518066, -0.042591169476509094, -0.03322066739201546, -0.06698507070541382, -0.004060977138578892, -0.008997571654617786, 0.028185462579131126, 0.03557342663407326, ...  [-0.0374382808804512, 0.023888064548373222, -0.05132924020290375, -0.05840529873967171, -0.02104697749018669, -0.00013814368867315352, -0.053486935794353485, -0.051029324531555176, -0.011303450912237167, 0.029573509469628334, 0.012838329188525677..."
      ]
     },
     "execution_count": 44,
     "metadata": {},
     "output_type": "execute_result"
    }
   ],
   "source": [
    "df.head()"
   ]
  },
  {
   "cell_type": "markdown",
   "id": "62ef0d3c",
   "metadata": {},
   "source": [
    "Отберём треки для составления пар."
   ]
  },
  {
   "cell_type": "code",
   "execution_count": 45,
   "id": "258811f4",
   "metadata": {},
   "outputs": [],
   "source": [
    "cover_list = df[(df['track_remake_type'] == 'COVER') &\n",
    "                    ~(df['original_track_id'].isna())]['original_track_id'].tolist()"
   ]
  },
  {
   "cell_type": "code",
   "execution_count": 46,
   "id": "cbdd424c",
   "metadata": {},
   "outputs": [
    {
     "data": {
      "text/plain": [
       "ORIGINAL    43\n",
       "COVER        2\n",
       "Name: track_remake_type, dtype: int64"
      ]
     },
     "execution_count": 46,
     "metadata": {},
     "output_type": "execute_result"
    }
   ],
   "source": [
    "df[df['track_id'].isin(cover_list)]['track_remake_type'].value_counts()"
   ]
  },
  {
   "cell_type": "markdown",
   "id": "d1cb2c40",
   "metadata": {},
   "source": [
    "В датасете осталось всего 45 треков про которые точно известно что они являются каверами и при этом у нас есть текст оригинального трека. Что позволит сравнить данные треки с меткой `is_cover` = 1. При этом у нас есть метка `ORIGINAL` что по утверждению заказчика говорит о том что в цепочке каверов данный трек точно определён как исходный. Таким образом сравнивая треки с меткой `ORIGINAL` друг с другом мы можем быть уверены что они не являются каверами друг друга и проставить для них метку `is_cover` = 0. Соберём такой датасет."
   ]
  },
  {
   "cell_type": "markdown",
   "id": "b7964719",
   "metadata": {},
   "source": [
    "Возьмём индексы треков являющихся каверами и имеющих ссылки на оригинальные треки."
   ]
  },
  {
   "cell_type": "code",
   "execution_count": 47,
   "id": "53b6c994",
   "metadata": {},
   "outputs": [
    {
     "data": {
      "text/plain": [
       "325"
      ]
     },
     "execution_count": 47,
     "metadata": {},
     "output_type": "execute_result"
    }
   ],
   "source": [
    "cover = set(df[(df['track_remake_type'] == 'COVER')\n",
    "               & ~(df['original_track_id'].isna())].index)\n",
    "len(cover)"
   ]
  },
  {
   "cell_type": "markdown",
   "id": "4896698a",
   "metadata": {},
   "source": [
    "Также выберем индексы треков которые являются оригиналами к вышеперечисленным трекам."
   ]
  },
  {
   "cell_type": "code",
   "execution_count": 48,
   "id": "bfa510d9",
   "metadata": {
    "scrolled": false
   },
   "outputs": [
    {
     "data": {
      "text/plain": [
       "45"
      ]
     },
     "execution_count": 48,
     "metadata": {},
     "output_type": "execute_result"
    }
   ],
   "source": [
    "originals_to_cover = set(df[df['track_id'].isin(cover_list)].index)\n",
    "len(originals_to_cover)"
   ]
  },
  {
   "cell_type": "markdown",
   "id": "9724fe47",
   "metadata": {},
   "source": [
    "Получим пары у которых можно проставить метку `is_cover` = 1. Отберём среди оригинальных треков в 9 раз большее количество не совпадающих с ране помеченными треками."
   ]
  },
  {
   "cell_type": "markdown",
   "id": "248494ac",
   "metadata": {},
   "source": [
    "Выберем все треки, являющиеся не оригиналами."
   ]
  },
  {
   "cell_type": "code",
   "execution_count": 49,
   "id": "fe213fbd",
   "metadata": {},
   "outputs": [
    {
     "data": {
      "text/plain": [
       "7406"
      ]
     },
     "execution_count": 49,
     "metadata": {},
     "output_type": "execute_result"
    }
   ],
   "source": [
    "non_originals = set(df[(df['track_remake_type'] == 'COVER')].index)\n",
    "len(non_originals)"
   ]
  },
  {
   "cell_type": "markdown",
   "id": "27a3e9d2",
   "metadata": {},
   "source": [
    "Выберем треки которые можно использовать для составления пар с меткой `is_cover` = 0."
   ]
  },
  {
   "cell_type": "code",
   "execution_count": 50,
   "id": "54fc7e09",
   "metadata": {},
   "outputs": [
    {
     "data": {
      "text/plain": [
       "2674"
      ]
     },
     "execution_count": 50,
     "metadata": {},
     "output_type": "execute_result"
    }
   ],
   "source": [
    "originals = set(df.index) - cover - originals_to_cover - non_originals\n",
    "len(originals)"
   ]
  },
  {
   "cell_type": "markdown",
   "id": "6495042c",
   "metadata": {},
   "source": [
    "Составим таблицу из пар треков являющихся друг другу каверами."
   ]
  },
  {
   "cell_type": "code",
   "execution_count": 51,
   "id": "d1adf90b",
   "metadata": {},
   "outputs": [],
   "source": [
    "pairs = df.loc[cover]"
   ]
  },
  {
   "cell_type": "code",
   "execution_count": 52,
   "id": "3984bb3d",
   "metadata": {},
   "outputs": [],
   "source": [
    "pairs = pd.merge(pairs, df, how='left', left_on='original_track_id', right_on='track_id', suffixes=['_first', '_second'])\n",
    "pairs.dropna(inplace=True)\n",
    "pairs['is_cover'] = 1"
   ]
  },
  {
   "cell_type": "code",
   "execution_count": 53,
   "id": "a2df996e",
   "metadata": {},
   "outputs": [
    {
     "name": "stdout",
     "output_type": "stream",
     "text": [
      "<class 'pandas.core.frame.DataFrame'>\n",
      "Int64Index: 143 entries, 0 to 323\n",
      "Data columns (total 21 columns):\n",
      " #   Column                    Non-Null Count  Dtype         \n",
      "---  ------                    --------------  -----         \n",
      " 0   original_track_id_first   143 non-null    object        \n",
      " 1   track_id_first            143 non-null    object        \n",
      " 2   track_remake_type_first   143 non-null    object        \n",
      " 3   dttm_first                143 non-null    datetime64[ns]\n",
      " 4   title_first               143 non-null    object        \n",
      " 5   language_first            143 non-null    object        \n",
      " 6   duration_first            143 non-null    float64       \n",
      " 7   text_first                143 non-null    object        \n",
      " 8   embeddings_first          143 non-null    object        \n",
      " 9   title_embeddings_first    143 non-null    object        \n",
      " 10  original_track_id_second  143 non-null    object        \n",
      " 11  track_id_second           143 non-null    object        \n",
      " 12  track_remake_type_second  143 non-null    object        \n",
      " 13  dttm_second               143 non-null    datetime64[ns]\n",
      " 14  title_second              143 non-null    object        \n",
      " 15  language_second           143 non-null    object        \n",
      " 16  duration_second           143 non-null    float64       \n",
      " 17  text_second               143 non-null    object        \n",
      " 18  embeddings_second         143 non-null    object        \n",
      " 19  title_embeddings_second   143 non-null    object        \n",
      " 20  is_cover                  143 non-null    int64         \n",
      "dtypes: datetime64[ns](2), float64(2), int64(1), object(16)\n",
      "memory usage: 24.6+ KB\n"
     ]
    }
   ],
   "source": [
    "pairs.info()"
   ]
  },
  {
   "cell_type": "markdown",
   "id": "61da730a",
   "metadata": {},
   "source": [
    "Получили 143 пары. Теперь составим пары из оригинальных треков.\n",
    "\n",
    "Т.к. датасет синтетический, нам надо постараться сохранить соотношение классов в разумном коридоре. Из открытых источников известно что доля каверов составляет от 5 до 30 % от всех треков. Для увеличения размера выборки возьмём нижнюю границу."
   ]
  },
  {
   "cell_type": "code",
   "execution_count": 54,
   "id": "4179dbb6",
   "metadata": {},
   "outputs": [],
   "source": [
    "pairs_original = df.loc[originals].reset_index(drop=True)\n",
    "pairs_original = pairs_original.join(\n",
    "    other=pairs_original.sample(frac=1, random_state=SEED).reset_index(drop=True),\n",
    "    lsuffix='_first',\n",
    "    rsuffix='_second'\n",
    ")\n",
    "pairs_original = pairs_original[pairs_original['track_id_first'] != pairs_original['track_id_second']]\n",
    "pairs_original['is_cover'] = 0"
   ]
  },
  {
   "cell_type": "code",
   "execution_count": 55,
   "id": "e2624a0c",
   "metadata": {},
   "outputs": [
    {
     "name": "stdout",
     "output_type": "stream",
     "text": [
      "<class 'pandas.core.frame.DataFrame'>\n",
      "Int64Index: 2673 entries, 0 to 2673\n",
      "Data columns (total 21 columns):\n",
      " #   Column                    Non-Null Count  Dtype         \n",
      "---  ------                    --------------  -----         \n",
      " 0   original_track_id_first   2673 non-null   object        \n",
      " 1   track_id_first            2673 non-null   object        \n",
      " 2   track_remake_type_first   2673 non-null   object        \n",
      " 3   dttm_first                2673 non-null   datetime64[ns]\n",
      " 4   title_first               2673 non-null   object        \n",
      " 5   language_first            1697 non-null   object        \n",
      " 6   duration_first            2673 non-null   float64       \n",
      " 7   text_first                2673 non-null   object        \n",
      " 8   embeddings_first          2673 non-null   object        \n",
      " 9   title_embeddings_first    2673 non-null   object        \n",
      " 10  original_track_id_second  2673 non-null   object        \n",
      " 11  track_id_second           2673 non-null   object        \n",
      " 12  track_remake_type_second  2673 non-null   object        \n",
      " 13  dttm_second               2673 non-null   datetime64[ns]\n",
      " 14  title_second              2673 non-null   object        \n",
      " 15  language_second           1697 non-null   object        \n",
      " 16  duration_second           2673 non-null   float64       \n",
      " 17  text_second               2673 non-null   object        \n",
      " 18  embeddings_second         2673 non-null   object        \n",
      " 19  title_embeddings_second   2673 non-null   object        \n",
      " 20  is_cover                  2673 non-null   int64         \n",
      "dtypes: datetime64[ns](2), float64(2), int64(1), object(16)\n",
      "memory usage: 459.4+ KB\n"
     ]
    }
   ],
   "source": [
    "pairs_original.info()"
   ]
  },
  {
   "cell_type": "markdown",
   "id": "43d41b34",
   "metadata": {},
   "source": [
    "Объединим их."
   ]
  },
  {
   "cell_type": "code",
   "execution_count": 56,
   "id": "9ae00895",
   "metadata": {},
   "outputs": [],
   "source": [
    "data = pd.concat([pairs, pairs_original]).reset_index(drop=True)"
   ]
  },
  {
   "cell_type": "code",
   "execution_count": 57,
   "id": "360f2088",
   "metadata": {},
   "outputs": [
    {
     "data": {
      "text/html": [
       "<div>\n",
       "<style scoped>\n",
       "    .dataframe tbody tr th:only-of-type {\n",
       "        vertical-align: middle;\n",
       "    }\n",
       "\n",
       "    .dataframe tbody tr th {\n",
       "        vertical-align: top;\n",
       "    }\n",
       "\n",
       "    .dataframe thead th {\n",
       "        text-align: right;\n",
       "    }\n",
       "</style>\n",
       "<table border=\"1\" class=\"dataframe\">\n",
       "  <thead>\n",
       "    <tr style=\"text-align: right;\">\n",
       "      <th></th>\n",
       "      <th>original_track_id_first</th>\n",
       "      <th>track_id_first</th>\n",
       "      <th>track_remake_type_first</th>\n",
       "      <th>dttm_first</th>\n",
       "      <th>title_first</th>\n",
       "      <th>language_first</th>\n",
       "      <th>duration_first</th>\n",
       "      <th>text_first</th>\n",
       "      <th>embeddings_first</th>\n",
       "      <th>title_embeddings_first</th>\n",
       "      <th>original_track_id_second</th>\n",
       "      <th>track_id_second</th>\n",
       "      <th>track_remake_type_second</th>\n",
       "      <th>dttm_second</th>\n",
       "      <th>title_second</th>\n",
       "      <th>language_second</th>\n",
       "      <th>duration_second</th>\n",
       "      <th>text_second</th>\n",
       "      <th>embeddings_second</th>\n",
       "      <th>title_embeddings_second</th>\n",
       "      <th>is_cover</th>\n",
       "    </tr>\n",
       "  </thead>\n",
       "  <tbody>\n",
       "    <tr>\n",
       "      <th>0</th>\n",
       "      <td>ad1b9fe17c16ab73b2a52920fdb1a220</td>\n",
       "      <td>64e605a50d55d71a9e1c8be33bf6020a</td>\n",
       "      <td>COVER</td>\n",
       "      <td>2014-11-19 17:55:40</td>\n",
       "      <td>valerie</td>\n",
       "      <td>SV</td>\n",
       "      <td>236120.000</td>\n",
       "      <td>well  sometimes i go out by myself and i look across the water and i think of all the things  what you're doing and in my head i paint a picture 'cause since i've come on home well  my body's been a mess and i've missed your ginger hair and the w...</td>\n",
       "      <td>[-0.044756677001714706, -0.05254136025905609, -0.004346932750195265, -0.07322010397911072, -0.016460340470075607, -0.04337234050035477, -0.059935543686151505, 0.021381380036473274, 0.006468093954026699, -0.04183240234851837, -0.001160806044936180...</td>\n",
       "      <td>[0.011244205757975578, -0.03172340244054794, 0.05158513784408569, -0.020744644105434418, 0.01249606627970934, -0.00954363401979208, -0.009239035658538342, 0.020595842972397804, -0.049346163868904114, 0.012199626304209232, -0.02764236368238926, -0...</td>\n",
       "      <td>ad1b9fe17c16ab73b2a52920fdb1a220</td>\n",
       "      <td>ad1b9fe17c16ab73b2a52920fdb1a220</td>\n",
       "      <td>ORIGINAL</td>\n",
       "      <td>2014-02-03 20:00:00</td>\n",
       "      <td>valerie</td>\n",
       "      <td>EN</td>\n",
       "      <td>236260.000</td>\n",
       "      <td>well  sometimes i go out by myself and i look across the water and i think of all the things  what you do and in my head  i make a picture  'cause since i've come on home well  my body's been a mess and i've missed your ginger hair and the way yo...</td>\n",
       "      <td>[-0.04360475763678551, -0.053058452904224396, -0.0033517922274768353, -0.0746745839715004, -0.01717943139374256, -0.042378995567560196, -0.06078696250915527, 0.01781575009226799, 0.002817784436047077, -0.046716924756765366, -0.001228715875186026,...</td>\n",
       "      <td>[0.011244205757975578, -0.03172340244054794, 0.05158513784408569, -0.020744644105434418, 0.01249606627970934, -0.00954363401979208, -0.009239035658538342, 0.020595842972397804, -0.049346163868904114, 0.012199626304209232, -0.02764236368238926, -0...</td>\n",
       "      <td>1</td>\n",
       "    </tr>\n",
       "    <tr>\n",
       "      <th>1</th>\n",
       "      <td>b9213d37c37deffe8b8af0dac5d0c3c4</td>\n",
       "      <td>58a293c4c86b4c0000b0e683c77432a8</td>\n",
       "      <td>COVER</td>\n",
       "      <td>2009-09-17 20:00:00</td>\n",
       "      <td>everlasting love</td>\n",
       "      <td>EN</td>\n",
       "      <td>182860.000</td>\n",
       "      <td>hearts go astray  leaving hurt when they go  i went away just when you needed me so  filled with regret i come back beggin' you  forgive  forget  where's the love we once knew  open up your eyes  then you'll realize here i stand with my everlasti...</td>\n",
       "      <td>[-0.017863217741250992, -0.05045800656080246, -0.014154268428683281, -0.06852192431688309, -0.006179174408316612, 0.03249577805399895, -0.06675302982330322, 0.021933794021606445, 0.0016984520480036736, 0.010259768925607204, 0.000535291968844831, ...</td>\n",
       "      <td>[-0.023095859214663506, -0.06139333173632622, -0.006027283612638712, -0.0323810800909996, 0.060780249536037445, 0.04837876185774803, -0.026886504143476486, -0.006193656474351883, -0.029432492330670357, 0.006021825131028891, -0.021831469610333443,...</td>\n",
       "      <td>b9213d37c37deffe8b8af0dac5d0c3c4</td>\n",
       "      <td>b9213d37c37deffe8b8af0dac5d0c3c4</td>\n",
       "      <td>ORIGINAL</td>\n",
       "      <td>2019-02-09 19:25:52</td>\n",
       "      <td>everlasting love</td>\n",
       "      <td>EN</td>\n",
       "      <td>178600.000</td>\n",
       "      <td>hearts go astray  leaving hurt when they go i went away  just when you  you needed me so filled with regret  i come back begging you won't you forget  welcome love we once knew  open up your eyes  then you'll realize here i stand with my  everlas...</td>\n",
       "      <td>[-0.0076004560105502605, -0.045053452253341675, -0.014730497263371944, -0.06650989502668381, 0.008491424843668938, 0.03359537199139595, -0.06641265004873276, 0.029122622683644295, 0.008924299851059914, 0.014808004721999168, -0.005642336327582598,...</td>\n",
       "      <td>[-0.023095859214663506, -0.06139333173632622, -0.006027283612638712, -0.0323810800909996, 0.060780249536037445, 0.04837876185774803, -0.026886504143476486, -0.006193656474351883, -0.029432492330670357, 0.006021825131028891, -0.021831469610333443,...</td>\n",
       "      <td>1</td>\n",
       "    </tr>\n",
       "    <tr>\n",
       "      <th>2</th>\n",
       "      <td>deb9b9598176a0bab1212d430b10bd04</td>\n",
       "      <td>bfa9c5c62c08a0db763e2a2284e3d1b2</td>\n",
       "      <td>COVER</td>\n",
       "      <td>2009-09-17 20:00:00</td>\n",
       "      <td>sweet dreams  are made of this</td>\n",
       "      <td>EN</td>\n",
       "      <td>293380.000</td>\n",
       "      <td>sweet dreams are made of this who am i to disagree  travel the world and the seven seas everybody's looking for something  some of them want to use you some of them want to get used by you some of them want to abuse you some of them want to be ab...</td>\n",
       "      <td>[-0.012458089739084244, -0.06279073655605316, 0.04625798389315605, -0.06704612076282501, 0.004828722681850195, 0.0042594741098582745, -0.06577488034963608, 0.04249223321676254, 0.0037874183617532253, 0.006705677602440119, 0.018309686332941055, 3....</td>\n",
       "      <td>[0.016144583001732826, -0.06159515678882599, 0.018378563225269318, -0.03798796236515045, -0.03282330185174942, 0.00517308572307229, 0.0037749246694147587, -0.0036665291991084814, -0.06619148701429367, -0.014374283142387867, -0.010566887445747852,...</td>\n",
       "      <td>deb9b9598176a0bab1212d430b10bd04</td>\n",
       "      <td>deb9b9598176a0bab1212d430b10bd04</td>\n",
       "      <td>ORIGINAL</td>\n",
       "      <td>2014-02-03 20:00:00</td>\n",
       "      <td>sweet dreams  are made of this</td>\n",
       "      <td>EN</td>\n",
       "      <td>217090.000</td>\n",
       "      <td>sweet dreams are made of this who am i to disagree i travel the world and the seven seas everybody's looking for something  some of them want to use you some of them want to get used by you some of them want to abuse you some of them want to be a...</td>\n",
       "      <td>[-0.02916782535612583, -0.04288263991475105, 0.0024341370444744825, -0.0583762526512146, -0.020791148766875267, -0.004050076473504305, -0.05777013301849365, 0.04444669187068939, -0.015547442249953747, 0.022613339126110077, 0.00810526218265295, 0....</td>\n",
       "      <td>[0.016144583001732826, -0.06159515678882599, 0.018378563225269318, -0.03798796236515045, -0.03282330185174942, 0.00517308572307229, 0.0037749246694147587, -0.0036665291991084814, -0.06619148701429367, -0.014374283142387867, -0.010566887445747852,...</td>\n",
       "      <td>1</td>\n",
       "    </tr>\n",
       "    <tr>\n",
       "      <th>3</th>\n",
       "      <td>b9213d37c37deffe8b8af0dac5d0c3c4</td>\n",
       "      <td>79eb48bb4409051aab1602e390c98736</td>\n",
       "      <td>COVER</td>\n",
       "      <td>2010-03-31 20:00:00</td>\n",
       "      <td>everlasting love</td>\n",
       "      <td>EN</td>\n",
       "      <td>202340.000</td>\n",
       "      <td>hearts gone astray deep in her when they go i went away just when you needed me so you won't regret i'll come back begging you won't you forget welcome love we once knew  open up your eyes then you'll realize here i stand with my everlasting love...</td>\n",
       "      <td>[-0.03530704230070114, -0.03712916374206543, 0.00010391393880126998, -0.0656430646777153, -0.0379340834915638, 0.04564320668578148, -0.06630320101976395, 0.013295146636664867, -0.006365401204675436, 0.023135796189308167, -0.014342037960886955, -0...</td>\n",
       "      <td>[-0.023095808923244476, -0.06139332801103592, -0.006027260795235634, -0.032381054013967514, 0.06078026071190834, 0.04837876185774803, -0.026886533945798874, -0.006193659268319607, -0.02943248488008976, 0.006021841894835234, -0.021831482648849487,...</td>\n",
       "      <td>b9213d37c37deffe8b8af0dac5d0c3c4</td>\n",
       "      <td>b9213d37c37deffe8b8af0dac5d0c3c4</td>\n",
       "      <td>ORIGINAL</td>\n",
       "      <td>2019-02-09 19:25:52</td>\n",
       "      <td>everlasting love</td>\n",
       "      <td>EN</td>\n",
       "      <td>178600.000</td>\n",
       "      <td>hearts go astray  leaving hurt when they go i went away  just when you  you needed me so filled with regret  i come back begging you won't you forget  welcome love we once knew  open up your eyes  then you'll realize here i stand with my  everlas...</td>\n",
       "      <td>[-0.0076004560105502605, -0.045053452253341675, -0.014730497263371944, -0.06650989502668381, 0.008491424843668938, 0.03359537199139595, -0.06641265004873276, 0.029122622683644295, 0.008924299851059914, 0.014808004721999168, -0.005642336327582598,...</td>\n",
       "      <td>[-0.023095859214663506, -0.06139333173632622, -0.006027283612638712, -0.0323810800909996, 0.060780249536037445, 0.04837876185774803, -0.026886504143476486, -0.006193656474351883, -0.029432492330670357, 0.006021825131028891, -0.021831469610333443,...</td>\n",
       "      <td>1</td>\n",
       "    </tr>\n",
       "    <tr>\n",
       "      <th>4</th>\n",
       "      <td>b9213d37c37deffe8b8af0dac5d0c3c4</td>\n",
       "      <td>a106cea5c02ed8a70b421831cc4e7192</td>\n",
       "      <td>COVER</td>\n",
       "      <td>2017-08-24 21:00:00</td>\n",
       "      <td>everlasting love</td>\n",
       "      <td>EN</td>\n",
       "      <td>153940.000</td>\n",
       "      <td>hearts go astray  leaving hurt when they go i went away just when you needed me so  oh yeah  filled with regret  i come back begging you forgive  forget  where's the love we once knew   open up your eyes then you'll realize here i stand with my e...</td>\n",
       "      <td>[-0.018332364037632942, -0.042785126715898514, -0.017899570986628532, -0.06637722998857498, 0.0066642980091273785, 0.03683185949921608, -0.06695976108312607, 0.031733136624097824, 0.007580699399113655, 0.023130346089601517, 0.0044714887626469135,...</td>\n",
       "      <td>[-0.023095859214663506, -0.06139333173632622, -0.006027283612638712, -0.0323810800909996, 0.060780249536037445, 0.04837876185774803, -0.026886504143476486, -0.006193656474351883, -0.029432492330670357, 0.006021825131028891, -0.021831469610333443,...</td>\n",
       "      <td>b9213d37c37deffe8b8af0dac5d0c3c4</td>\n",
       "      <td>b9213d37c37deffe8b8af0dac5d0c3c4</td>\n",
       "      <td>ORIGINAL</td>\n",
       "      <td>2019-02-09 19:25:52</td>\n",
       "      <td>everlasting love</td>\n",
       "      <td>EN</td>\n",
       "      <td>178600.000</td>\n",
       "      <td>hearts go astray  leaving hurt when they go i went away  just when you  you needed me so filled with regret  i come back begging you won't you forget  welcome love we once knew  open up your eyes  then you'll realize here i stand with my  everlas...</td>\n",
       "      <td>[-0.0076004560105502605, -0.045053452253341675, -0.014730497263371944, -0.06650989502668381, 0.008491424843668938, 0.03359537199139595, -0.06641265004873276, 0.029122622683644295, 0.008924299851059914, 0.014808004721999168, -0.005642336327582598,...</td>\n",
       "      <td>[-0.023095859214663506, -0.06139333173632622, -0.006027283612638712, -0.0323810800909996, 0.060780249536037445, 0.04837876185774803, -0.026886504143476486, -0.006193656474351883, -0.029432492330670357, 0.006021825131028891, -0.021831469610333443,...</td>\n",
       "      <td>1</td>\n",
       "    </tr>\n",
       "  </tbody>\n",
       "</table>\n",
       "</div>"
      ],
      "text/plain": [
       "            original_track_id_first                    track_id_first track_remake_type_first          dttm_first                     title_first language_first  duration_first                                                                                                                                                                                                                                                 text_first                                                                                                                                                                                                                                           embeddings_first                                                                                                                                                                                                                                     title_embeddings_first          original_track_id_second                   track_id_second  \\\n",
       "0  ad1b9fe17c16ab73b2a52920fdb1a220  64e605a50d55d71a9e1c8be33bf6020a                   COVER 2014-11-19 17:55:40                         valerie             SV      236120.000  well  sometimes i go out by myself and i look across the water and i think of all the things  what you're doing and in my head i paint a picture 'cause since i've come on home well  my body's been a mess and i've missed your ginger hair and the w...  [-0.044756677001714706, -0.05254136025905609, -0.004346932750195265, -0.07322010397911072, -0.016460340470075607, -0.04337234050035477, -0.059935543686151505, 0.021381380036473274, 0.006468093954026699, -0.04183240234851837, -0.001160806044936180...  [0.011244205757975578, -0.03172340244054794, 0.05158513784408569, -0.020744644105434418, 0.01249606627970934, -0.00954363401979208, -0.009239035658538342, 0.020595842972397804, -0.049346163868904114, 0.012199626304209232, -0.02764236368238926, -0...  ad1b9fe17c16ab73b2a52920fdb1a220  ad1b9fe17c16ab73b2a52920fdb1a220   \n",
       "1  b9213d37c37deffe8b8af0dac5d0c3c4  58a293c4c86b4c0000b0e683c77432a8                   COVER 2009-09-17 20:00:00                everlasting love             EN      182860.000  hearts go astray  leaving hurt when they go  i went away just when you needed me so  filled with regret i come back beggin' you  forgive  forget  where's the love we once knew  open up your eyes  then you'll realize here i stand with my everlasti...  [-0.017863217741250992, -0.05045800656080246, -0.014154268428683281, -0.06852192431688309, -0.006179174408316612, 0.03249577805399895, -0.06675302982330322, 0.021933794021606445, 0.0016984520480036736, 0.010259768925607204, 0.000535291968844831, ...  [-0.023095859214663506, -0.06139333173632622, -0.006027283612638712, -0.0323810800909996, 0.060780249536037445, 0.04837876185774803, -0.026886504143476486, -0.006193656474351883, -0.029432492330670357, 0.006021825131028891, -0.021831469610333443,...  b9213d37c37deffe8b8af0dac5d0c3c4  b9213d37c37deffe8b8af0dac5d0c3c4   \n",
       "2  deb9b9598176a0bab1212d430b10bd04  bfa9c5c62c08a0db763e2a2284e3d1b2                   COVER 2009-09-17 20:00:00  sweet dreams  are made of this             EN      293380.000  sweet dreams are made of this who am i to disagree  travel the world and the seven seas everybody's looking for something  some of them want to use you some of them want to get used by you some of them want to abuse you some of them want to be ab...  [-0.012458089739084244, -0.06279073655605316, 0.04625798389315605, -0.06704612076282501, 0.004828722681850195, 0.0042594741098582745, -0.06577488034963608, 0.04249223321676254, 0.0037874183617532253, 0.006705677602440119, 0.018309686332941055, 3....  [0.016144583001732826, -0.06159515678882599, 0.018378563225269318, -0.03798796236515045, -0.03282330185174942, 0.00517308572307229, 0.0037749246694147587, -0.0036665291991084814, -0.06619148701429367, -0.014374283142387867, -0.010566887445747852,...  deb9b9598176a0bab1212d430b10bd04  deb9b9598176a0bab1212d430b10bd04   \n",
       "3  b9213d37c37deffe8b8af0dac5d0c3c4  79eb48bb4409051aab1602e390c98736                   COVER 2010-03-31 20:00:00                everlasting love             EN      202340.000  hearts gone astray deep in her when they go i went away just when you needed me so you won't regret i'll come back begging you won't you forget welcome love we once knew  open up your eyes then you'll realize here i stand with my everlasting love...  [-0.03530704230070114, -0.03712916374206543, 0.00010391393880126998, -0.0656430646777153, -0.0379340834915638, 0.04564320668578148, -0.06630320101976395, 0.013295146636664867, -0.006365401204675436, 0.023135796189308167, -0.014342037960886955, -0...  [-0.023095808923244476, -0.06139332801103592, -0.006027260795235634, -0.032381054013967514, 0.06078026071190834, 0.04837876185774803, -0.026886533945798874, -0.006193659268319607, -0.02943248488008976, 0.006021841894835234, -0.021831482648849487,...  b9213d37c37deffe8b8af0dac5d0c3c4  b9213d37c37deffe8b8af0dac5d0c3c4   \n",
       "4  b9213d37c37deffe8b8af0dac5d0c3c4  a106cea5c02ed8a70b421831cc4e7192                   COVER 2017-08-24 21:00:00                everlasting love             EN      153940.000  hearts go astray  leaving hurt when they go i went away just when you needed me so  oh yeah  filled with regret  i come back begging you forgive  forget  where's the love we once knew   open up your eyes then you'll realize here i stand with my e...  [-0.018332364037632942, -0.042785126715898514, -0.017899570986628532, -0.06637722998857498, 0.0066642980091273785, 0.03683185949921608, -0.06695976108312607, 0.031733136624097824, 0.007580699399113655, 0.023130346089601517, 0.0044714887626469135,...  [-0.023095859214663506, -0.06139333173632622, -0.006027283612638712, -0.0323810800909996, 0.060780249536037445, 0.04837876185774803, -0.026886504143476486, -0.006193656474351883, -0.029432492330670357, 0.006021825131028891, -0.021831469610333443,...  b9213d37c37deffe8b8af0dac5d0c3c4  b9213d37c37deffe8b8af0dac5d0c3c4   \n",
       "\n",
       "  track_remake_type_second         dttm_second                    title_second language_second  duration_second                                                                                                                                                                                                                                                text_second                                                                                                                                                                                                                                          embeddings_second                                                                                                                                                                                                                                    title_embeddings_second  is_cover  \n",
       "0                 ORIGINAL 2014-02-03 20:00:00                         valerie              EN       236260.000  well  sometimes i go out by myself and i look across the water and i think of all the things  what you do and in my head  i make a picture  'cause since i've come on home well  my body's been a mess and i've missed your ginger hair and the way yo...  [-0.04360475763678551, -0.053058452904224396, -0.0033517922274768353, -0.0746745839715004, -0.01717943139374256, -0.042378995567560196, -0.06078696250915527, 0.01781575009226799, 0.002817784436047077, -0.046716924756765366, -0.001228715875186026,...  [0.011244205757975578, -0.03172340244054794, 0.05158513784408569, -0.020744644105434418, 0.01249606627970934, -0.00954363401979208, -0.009239035658538342, 0.020595842972397804, -0.049346163868904114, 0.012199626304209232, -0.02764236368238926, -0...         1  \n",
       "1                 ORIGINAL 2019-02-09 19:25:52                everlasting love              EN       178600.000  hearts go astray  leaving hurt when they go i went away  just when you  you needed me so filled with regret  i come back begging you won't you forget  welcome love we once knew  open up your eyes  then you'll realize here i stand with my  everlas...  [-0.0076004560105502605, -0.045053452253341675, -0.014730497263371944, -0.06650989502668381, 0.008491424843668938, 0.03359537199139595, -0.06641265004873276, 0.029122622683644295, 0.008924299851059914, 0.014808004721999168, -0.005642336327582598,...  [-0.023095859214663506, -0.06139333173632622, -0.006027283612638712, -0.0323810800909996, 0.060780249536037445, 0.04837876185774803, -0.026886504143476486, -0.006193656474351883, -0.029432492330670357, 0.006021825131028891, -0.021831469610333443,...         1  \n",
       "2                 ORIGINAL 2014-02-03 20:00:00  sweet dreams  are made of this              EN       217090.000  sweet dreams are made of this who am i to disagree i travel the world and the seven seas everybody's looking for something  some of them want to use you some of them want to get used by you some of them want to abuse you some of them want to be a...  [-0.02916782535612583, -0.04288263991475105, 0.0024341370444744825, -0.0583762526512146, -0.020791148766875267, -0.004050076473504305, -0.05777013301849365, 0.04444669187068939, -0.015547442249953747, 0.022613339126110077, 0.00810526218265295, 0....  [0.016144583001732826, -0.06159515678882599, 0.018378563225269318, -0.03798796236515045, -0.03282330185174942, 0.00517308572307229, 0.0037749246694147587, -0.0036665291991084814, -0.06619148701429367, -0.014374283142387867, -0.010566887445747852,...         1  \n",
       "3                 ORIGINAL 2019-02-09 19:25:52                everlasting love              EN       178600.000  hearts go astray  leaving hurt when they go i went away  just when you  you needed me so filled with regret  i come back begging you won't you forget  welcome love we once knew  open up your eyes  then you'll realize here i stand with my  everlas...  [-0.0076004560105502605, -0.045053452253341675, -0.014730497263371944, -0.06650989502668381, 0.008491424843668938, 0.03359537199139595, -0.06641265004873276, 0.029122622683644295, 0.008924299851059914, 0.014808004721999168, -0.005642336327582598,...  [-0.023095859214663506, -0.06139333173632622, -0.006027283612638712, -0.0323810800909996, 0.060780249536037445, 0.04837876185774803, -0.026886504143476486, -0.006193656474351883, -0.029432492330670357, 0.006021825131028891, -0.021831469610333443,...         1  \n",
       "4                 ORIGINAL 2019-02-09 19:25:52                everlasting love              EN       178600.000  hearts go astray  leaving hurt when they go i went away  just when you  you needed me so filled with regret  i come back begging you won't you forget  welcome love we once knew  open up your eyes  then you'll realize here i stand with my  everlas...  [-0.0076004560105502605, -0.045053452253341675, -0.014730497263371944, -0.06650989502668381, 0.008491424843668938, 0.03359537199139595, -0.06641265004873276, 0.029122622683644295, 0.008924299851059914, 0.014808004721999168, -0.005642336327582598,...  [-0.023095859214663506, -0.06139333173632622, -0.006027283612638712, -0.0323810800909996, 0.060780249536037445, 0.04837876185774803, -0.026886504143476486, -0.006193656474351883, -0.029432492330670357, 0.006021825131028891, -0.021831469610333443,...         1  "
      ]
     },
     "execution_count": 57,
     "metadata": {},
     "output_type": "execute_result"
    }
   ],
   "source": [
    "data.head()"
   ]
  },
  {
   "cell_type": "code",
   "execution_count": 58,
   "id": "7ce7a30c",
   "metadata": {},
   "outputs": [
    {
     "name": "stdout",
     "output_type": "stream",
     "text": [
      "<class 'pandas.core.frame.DataFrame'>\n",
      "RangeIndex: 2816 entries, 0 to 2815\n",
      "Data columns (total 21 columns):\n",
      " #   Column                    Non-Null Count  Dtype         \n",
      "---  ------                    --------------  -----         \n",
      " 0   original_track_id_first   2816 non-null   object        \n",
      " 1   track_id_first            2816 non-null   object        \n",
      " 2   track_remake_type_first   2816 non-null   object        \n",
      " 3   dttm_first                2816 non-null   datetime64[ns]\n",
      " 4   title_first               2816 non-null   object        \n",
      " 5   language_first            1840 non-null   object        \n",
      " 6   duration_first            2816 non-null   float64       \n",
      " 7   text_first                2816 non-null   object        \n",
      " 8   embeddings_first          2816 non-null   object        \n",
      " 9   title_embeddings_first    2816 non-null   object        \n",
      " 10  original_track_id_second  2816 non-null   object        \n",
      " 11  track_id_second           2816 non-null   object        \n",
      " 12  track_remake_type_second  2816 non-null   object        \n",
      " 13  dttm_second               2816 non-null   datetime64[ns]\n",
      " 14  title_second              2816 non-null   object        \n",
      " 15  language_second           1840 non-null   object        \n",
      " 16  duration_second           2816 non-null   float64       \n",
      " 17  text_second               2816 non-null   object        \n",
      " 18  embeddings_second         2816 non-null   object        \n",
      " 19  title_embeddings_second   2816 non-null   object        \n",
      " 20  is_cover                  2816 non-null   int64         \n",
      "dtypes: datetime64[ns](2), float64(2), int64(1), object(16)\n",
      "memory usage: 462.1+ KB\n"
     ]
    }
   ],
   "source": [
    "data.info()"
   ]
  },
  {
   "cell_type": "markdown",
   "id": "0f44fe7d",
   "metadata": {},
   "source": [
    "Создадим для каждой пары признаки сходства языков."
   ]
  },
  {
   "cell_type": "code",
   "execution_count": 59,
   "id": "e0d4d3e8",
   "metadata": {},
   "outputs": [],
   "source": [
    "data['language_unknown'] = (data['language_first'].isna() | data['language_second'].isna()).astype(int)\n",
    "data['same_language'] = (data['language_first'] == data['language_second']).astype(int)"
   ]
  },
  {
   "cell_type": "markdown",
   "id": "6a38baed",
   "metadata": {},
   "source": [
    "Посчитаем косинусные меры близости между текстами и названиями пар треков, добавим в данные."
   ]
  },
  {
   "cell_type": "code",
   "execution_count": 60,
   "id": "93b3b008",
   "metadata": {},
   "outputs": [],
   "source": [
    "data['text_similarity'] = cosine_similarity(\n",
    "    data['embeddings_first'].tolist(),\n",
    "    data['embeddings_second'].tolist()\n",
    ").diagonal()\n",
    "data['title_similarity'] = cosine_similarity(\n",
    "    data['title_embeddings_first'].tolist(),\n",
    "    data['title_embeddings_second'].tolist()\n",
    ").diagonal()"
   ]
  },
  {
   "cell_type": "markdown",
   "id": "a7d26cf5",
   "metadata": {},
   "source": [
    "### Выводы\n",
    "\n",
    "Мы объединили исходные данные в единую таблицу. Почистили данные. Очистили и привели к единому формату тексты песен. Запустили нечуствительную к языку модель на GPU и создали эмбеддинги для текстов.\n",
    "\n",
    "Создали набор данных подходящий для обучения по выбранной стратегии и сгенерировали некоторые признаки. Теперь можно приступать к обучению моделей."
   ]
  },
  {
   "cell_type": "markdown",
   "id": "ef5bb633",
   "metadata": {},
   "source": [
    "## Обучение моделей"
   ]
  },
  {
   "cell_type": "markdown",
   "id": "7129fac5",
   "metadata": {},
   "source": [
    "Выделим из полученных данных те что нужны для обучения и создадим обучающую и тестовые выборки."
   ]
  },
  {
   "cell_type": "code",
   "execution_count": 61,
   "id": "170e47cd",
   "metadata": {},
   "outputs": [],
   "source": [
    "X = data[['duration_first', 'duration_second',\n",
    "          'same_language', 'language_unknown',\n",
    "          'text_similarity', 'title_similarity']]\n",
    "y = data['is_cover']\n",
    "\n",
    "X, X_test, y, y_test = train_test_split(X, y, random_state=SEED, stratify=y)"
   ]
  },
  {
   "cell_type": "markdown",
   "id": "3275d9da",
   "metadata": {},
   "source": [
    "### LogisticRegression\n",
    "\n",
    "В качестве базового алгоритма выберем логистическую регрессию. Создадим pipeline с применением StandardScaler для числовых признаков."
   ]
  },
  {
   "cell_type": "code",
   "execution_count": 62,
   "id": "7b3ce9a6",
   "metadata": {},
   "outputs": [],
   "source": [
    "linear_transformer = make_column_transformer(\n",
    "    (\n",
    "        StandardScaler(\n",
    "        ), make_column_selector(dtype_include='float')\n",
    "    ),\n",
    "    remainder='passthrough'\n",
    ")"
   ]
  },
  {
   "cell_type": "markdown",
   "id": "67dea039",
   "metadata": {},
   "source": [
    "Соберём pipeline для логистической регрессии."
   ]
  },
  {
   "cell_type": "code",
   "execution_count": 63,
   "id": "ec67557e",
   "metadata": {},
   "outputs": [],
   "source": [
    "pipe_lr = make_pipeline(\n",
    "    linear_transformer,\n",
    "    LogisticRegression(\n",
    "        class_weight='balanced',\n",
    "        random_state=SEED,\n",
    "        n_jobs=-1\n",
    "    )\n",
    ")"
   ]
  },
  {
   "cell_type": "markdown",
   "id": "cd925583",
   "metadata": {},
   "source": [
    "Зададим сетку параметров и создадим estimator."
   ]
  },
  {
   "cell_type": "code",
   "execution_count": 64,
   "id": "08da081b",
   "metadata": {},
   "outputs": [],
   "source": [
    "param_grid = {\n",
    "    'logisticregression__solver':['newton-cg', 'lbfgs', 'liblinear', 'sag', 'saga'],\n",
    "    'logisticregression__C':[.0001, .001, .01, .1, 1, 10, 100, 1000]\n",
    "}\n",
    "\n",
    "gs_lr = GridSearchCV(\n",
    "    pipe_lr,\n",
    "    param_grid,\n",
    "    scoring='f1',\n",
    "    n_jobs=-1,\n",
    "    verbose=1,\n",
    "    refit='f1'\n",
    ")"
   ]
  },
  {
   "cell_type": "markdown",
   "id": "28c86c7d",
   "metadata": {},
   "source": [
    "Проведём обучение с кросс-валидацией выбранного оценщика."
   ]
  },
  {
   "cell_type": "code",
   "execution_count": 65,
   "id": "6f8bd95e",
   "metadata": {},
   "outputs": [
    {
     "name": "stdout",
     "output_type": "stream",
     "text": [
      "Fitting 5 folds for each of 40 candidates, totalling 200 fits\n",
      "CPU times: total: 422 ms\n",
      "Wall time: 3.74 s\n"
     ]
    }
   ],
   "source": [
    "%time gs_lr.fit(X, y)\n",
    "None"
   ]
  },
  {
   "cell_type": "markdown",
   "id": "700ebee7",
   "metadata": {},
   "source": [
    "Проверим результаты."
   ]
  },
  {
   "cell_type": "code",
   "execution_count": 66,
   "id": "159f187a",
   "metadata": {},
   "outputs": [
    {
     "data": {
      "text/html": [
       "<div>\n",
       "<style scoped>\n",
       "    .dataframe tbody tr th:only-of-type {\n",
       "        vertical-align: middle;\n",
       "    }\n",
       "\n",
       "    .dataframe tbody tr th {\n",
       "        vertical-align: top;\n",
       "    }\n",
       "\n",
       "    .dataframe thead th {\n",
       "        text-align: right;\n",
       "    }\n",
       "</style>\n",
       "<table border=\"1\" class=\"dataframe\">\n",
       "  <thead>\n",
       "    <tr style=\"text-align: right;\">\n",
       "      <th></th>\n",
       "      <th>param_logisticregression__C</th>\n",
       "      <th>param_logisticregression__solver</th>\n",
       "      <th>mean_test_score</th>\n",
       "      <th>rank_test_score</th>\n",
       "    </tr>\n",
       "  </thead>\n",
       "  <tbody>\n",
       "    <tr>\n",
       "      <th>0</th>\n",
       "      <td>0.000</td>\n",
       "      <td>newton-cg</td>\n",
       "      <td>0.986</td>\n",
       "      <td>1</td>\n",
       "    </tr>\n",
       "    <tr>\n",
       "      <th>37</th>\n",
       "      <td>1000</td>\n",
       "      <td>liblinear</td>\n",
       "      <td>0.986</td>\n",
       "      <td>1</td>\n",
       "    </tr>\n",
       "    <tr>\n",
       "      <th>33</th>\n",
       "      <td>100</td>\n",
       "      <td>sag</td>\n",
       "      <td>0.986</td>\n",
       "      <td>1</td>\n",
       "    </tr>\n",
       "    <tr>\n",
       "      <th>32</th>\n",
       "      <td>100</td>\n",
       "      <td>liblinear</td>\n",
       "      <td>0.986</td>\n",
       "      <td>1</td>\n",
       "    </tr>\n",
       "    <tr>\n",
       "      <th>31</th>\n",
       "      <td>100</td>\n",
       "      <td>lbfgs</td>\n",
       "      <td>0.986</td>\n",
       "      <td>1</td>\n",
       "    </tr>\n",
       "    <tr>\n",
       "      <th>30</th>\n",
       "      <td>100</td>\n",
       "      <td>newton-cg</td>\n",
       "      <td>0.986</td>\n",
       "      <td>1</td>\n",
       "    </tr>\n",
       "    <tr>\n",
       "      <th>38</th>\n",
       "      <td>1000</td>\n",
       "      <td>sag</td>\n",
       "      <td>0.986</td>\n",
       "      <td>1</td>\n",
       "    </tr>\n",
       "    <tr>\n",
       "      <th>18</th>\n",
       "      <td>0.100</td>\n",
       "      <td>sag</td>\n",
       "      <td>0.986</td>\n",
       "      <td>1</td>\n",
       "    </tr>\n",
       "    <tr>\n",
       "      <th>16</th>\n",
       "      <td>0.100</td>\n",
       "      <td>lbfgs</td>\n",
       "      <td>0.986</td>\n",
       "      <td>1</td>\n",
       "    </tr>\n",
       "    <tr>\n",
       "      <th>15</th>\n",
       "      <td>0.100</td>\n",
       "      <td>newton-cg</td>\n",
       "      <td>0.986</td>\n",
       "      <td>1</td>\n",
       "    </tr>\n",
       "  </tbody>\n",
       "</table>\n",
       "</div>"
      ],
      "text/plain": [
       "   param_logisticregression__C param_logisticregression__solver  mean_test_score  rank_test_score\n",
       "0                        0.000                        newton-cg            0.986                1\n",
       "37                        1000                        liblinear            0.986                1\n",
       "33                         100                              sag            0.986                1\n",
       "32                         100                        liblinear            0.986                1\n",
       "31                         100                            lbfgs            0.986                1\n",
       "30                         100                        newton-cg            0.986                1\n",
       "38                        1000                              sag            0.986                1\n",
       "18                       0.100                              sag            0.986                1\n",
       "16                       0.100                            lbfgs            0.986                1\n",
       "15                       0.100                        newton-cg            0.986                1"
      ]
     },
     "execution_count": 66,
     "metadata": {},
     "output_type": "execute_result"
    }
   ],
   "source": [
    "pd.DataFrame(gs_lr.cv_results_)[[\n",
    "    'param_logisticregression__C',\n",
    "    'param_logisticregression__solver', 'mean_test_score', 'rank_test_score']].sort_values(by='rank_test_score').head(10)"
   ]
  },
  {
   "cell_type": "code",
   "execution_count": 67,
   "id": "5232af5f",
   "metadata": {},
   "outputs": [
    {
     "data": {
      "text/plain": [
       "0.9857994579945799"
      ]
     },
     "execution_count": 67,
     "metadata": {},
     "output_type": "execute_result"
    }
   ],
   "source": [
    "gs_lr.best_score_"
   ]
  },
  {
   "cell_type": "markdown",
   "id": "87e007f4",
   "metadata": {},
   "source": [
    "При сравнении эмбеддингов текстов, даже простая логистическая регрессия показала хороший результат. Попробуем SVM."
   ]
  },
  {
   "cell_type": "markdown",
   "id": "f184c40f",
   "metadata": {},
   "source": [
    "### Модель LinearSVC.\n",
    "\n",
    "Создадим pipeline для модели."
   ]
  },
  {
   "cell_type": "code",
   "execution_count": 68,
   "id": "a9e5f6c6",
   "metadata": {},
   "outputs": [],
   "source": [
    "pipe_lsvc = make_pipeline(\n",
    "    linear_transformer,\n",
    "    LinearSVC(\n",
    "        class_weight='balanced',\n",
    "        random_state=SEED\n",
    "    )\n",
    ")"
   ]
  },
  {
   "cell_type": "markdown",
   "id": "a998fea9",
   "metadata": {},
   "source": [
    "Зададим сетку параметров и создадим estimator."
   ]
  },
  {
   "cell_type": "code",
   "execution_count": 69,
   "id": "f8c1dbc2",
   "metadata": {},
   "outputs": [],
   "source": [
    "param_grid = {\n",
    "    'linearsvc__loss':['hinge', 'squared_hinge'],\n",
    "    'linearsvc__C':[.0001, .001, .01, .1, 1, 10, 100, 1000]\n",
    "}\n",
    "\n",
    "gs_lsvc = GridSearchCV(\n",
    "    pipe_lsvc,\n",
    "    param_grid,\n",
    "    scoring='f1',\n",
    "    n_jobs=-1,\n",
    "    verbose=1,\n",
    "    refit='f1'\n",
    ")"
   ]
  },
  {
   "cell_type": "markdown",
   "id": "678bd6b5",
   "metadata": {},
   "source": [
    "Проведём обучение с кросс-валидацией выбранного оценщика."
   ]
  },
  {
   "cell_type": "code",
   "execution_count": 70,
   "id": "07c25b07",
   "metadata": {},
   "outputs": [
    {
     "name": "stdout",
     "output_type": "stream",
     "text": [
      "Fitting 5 folds for each of 16 candidates, totalling 80 fits\n",
      "CPU times: total: 93.8 ms\n",
      "Wall time: 273 ms\n"
     ]
    },
    {
     "name": "stderr",
     "output_type": "stream",
     "text": [
      "C:\\Users\\brovk\\anaconda3\\envs\\practicum\\lib\\site-packages\\sklearn\\svm\\_base.py:985: ConvergenceWarning: Liblinear failed to converge, increase the number of iterations.\n",
      "  warnings.warn(\"Liblinear failed to converge, increase \"\n"
     ]
    }
   ],
   "source": [
    "%time gs_lsvc.fit(X, y)\n",
    "None"
   ]
  },
  {
   "cell_type": "markdown",
   "id": "5fbfb8ac",
   "metadata": {},
   "source": [
    "Проверим результаты."
   ]
  },
  {
   "cell_type": "code",
   "execution_count": 71,
   "id": "9de32439",
   "metadata": {},
   "outputs": [
    {
     "data": {
      "text/html": [
       "<div>\n",
       "<style scoped>\n",
       "    .dataframe tbody tr th:only-of-type {\n",
       "        vertical-align: middle;\n",
       "    }\n",
       "\n",
       "    .dataframe tbody tr th {\n",
       "        vertical-align: top;\n",
       "    }\n",
       "\n",
       "    .dataframe thead th {\n",
       "        text-align: right;\n",
       "    }\n",
       "</style>\n",
       "<table border=\"1\" class=\"dataframe\">\n",
       "  <thead>\n",
       "    <tr style=\"text-align: right;\">\n",
       "      <th></th>\n",
       "      <th>param_linearsvc__loss</th>\n",
       "      <th>param_linearsvc__C</th>\n",
       "      <th>mean_test_score</th>\n",
       "      <th>rank_test_score</th>\n",
       "    </tr>\n",
       "  </thead>\n",
       "  <tbody>\n",
       "    <tr>\n",
       "      <th>11</th>\n",
       "      <td>squared_hinge</td>\n",
       "      <td>10</td>\n",
       "      <td>0.986</td>\n",
       "      <td>1</td>\n",
       "    </tr>\n",
       "    <tr>\n",
       "      <th>13</th>\n",
       "      <td>squared_hinge</td>\n",
       "      <td>100</td>\n",
       "      <td>0.986</td>\n",
       "      <td>1</td>\n",
       "    </tr>\n",
       "    <tr>\n",
       "      <th>10</th>\n",
       "      <td>hinge</td>\n",
       "      <td>10</td>\n",
       "      <td>0.981</td>\n",
       "      <td>3</td>\n",
       "    </tr>\n",
       "    <tr>\n",
       "      <th>6</th>\n",
       "      <td>hinge</td>\n",
       "      <td>0.100</td>\n",
       "      <td>0.981</td>\n",
       "      <td>4</td>\n",
       "    </tr>\n",
       "    <tr>\n",
       "      <th>14</th>\n",
       "      <td>hinge</td>\n",
       "      <td>1000</td>\n",
       "      <td>0.981</td>\n",
       "      <td>5</td>\n",
       "    </tr>\n",
       "    <tr>\n",
       "      <th>15</th>\n",
       "      <td>squared_hinge</td>\n",
       "      <td>1000</td>\n",
       "      <td>0.981</td>\n",
       "      <td>5</td>\n",
       "    </tr>\n",
       "    <tr>\n",
       "      <th>4</th>\n",
       "      <td>hinge</td>\n",
       "      <td>0.010</td>\n",
       "      <td>0.977</td>\n",
       "      <td>7</td>\n",
       "    </tr>\n",
       "    <tr>\n",
       "      <th>5</th>\n",
       "      <td>squared_hinge</td>\n",
       "      <td>0.010</td>\n",
       "      <td>0.977</td>\n",
       "      <td>7</td>\n",
       "    </tr>\n",
       "    <tr>\n",
       "      <th>8</th>\n",
       "      <td>hinge</td>\n",
       "      <td>1</td>\n",
       "      <td>0.977</td>\n",
       "      <td>9</td>\n",
       "    </tr>\n",
       "    <tr>\n",
       "      <th>9</th>\n",
       "      <td>squared_hinge</td>\n",
       "      <td>1</td>\n",
       "      <td>0.977</td>\n",
       "      <td>9</td>\n",
       "    </tr>\n",
       "  </tbody>\n",
       "</table>\n",
       "</div>"
      ],
      "text/plain": [
       "   param_linearsvc__loss param_linearsvc__C  mean_test_score  rank_test_score\n",
       "11         squared_hinge                 10            0.986                1\n",
       "13         squared_hinge                100            0.986                1\n",
       "10                 hinge                 10            0.981                3\n",
       "6                  hinge              0.100            0.981                4\n",
       "14                 hinge               1000            0.981                5\n",
       "15         squared_hinge               1000            0.981                5\n",
       "4                  hinge              0.010            0.977                7\n",
       "5          squared_hinge              0.010            0.977                7\n",
       "8                  hinge                  1            0.977                9\n",
       "9          squared_hinge                  1            0.977                9"
      ]
     },
     "execution_count": 71,
     "metadata": {},
     "output_type": "execute_result"
    }
   ],
   "source": [
    "pd.DataFrame(gs_lsvc.cv_results_)[[\n",
    "    'param_linearsvc__loss',\n",
    "    'param_linearsvc__C', 'mean_test_score', 'rank_test_score']].sort_values(by='rank_test_score').head(10)"
   ]
  },
  {
   "cell_type": "code",
   "execution_count": 72,
   "id": "dd60329d",
   "metadata": {},
   "outputs": [
    {
     "data": {
      "text/plain": [
       "0.9857994579945799"
      ]
     },
     "execution_count": 72,
     "metadata": {},
     "output_type": "execute_result"
    }
   ],
   "source": [
    "gs_lsvc.best_score_"
   ]
  },
  {
   "cell_type": "markdown",
   "id": "bc55f478",
   "metadata": {},
   "source": [
    "Аналогичный результат. В конце попробуем градиентный бустинг."
   ]
  },
  {
   "cell_type": "markdown",
   "id": "b72a31a6",
   "metadata": {},
   "source": [
    "### CatBoostClassifier\n",
    "\n",
    "Создадим модель."
   ]
  },
  {
   "cell_type": "code",
   "execution_count": 73,
   "id": "672883cc",
   "metadata": {},
   "outputs": [],
   "source": [
    "model = CatBoostClassifier(\n",
    "    iterations=100,\n",
    "    random_seed=SEED,\n",
    "    early_stopping_rounds=5,\n",
    "    cat_features=['same_language', 'language_unknown'],\n",
    "    verbose=0\n",
    ")"
   ]
  },
  {
   "cell_type": "markdown",
   "id": "b31d946e",
   "metadata": {},
   "source": [
    "Зададим словарь для писка оптимальных гиперпараметров."
   ]
  },
  {
   "cell_type": "code",
   "execution_count": 74,
   "id": "fe95c541",
   "metadata": {},
   "outputs": [],
   "source": [
    "param_grid = {\n",
    "    'learning_rate': [.1, .5, 1],\n",
    "    'depth': [2, 3, 4, 5, 6]\n",
    "}\n",
    "              \n",
    "gs_cb = GridSearchCV(\n",
    "    model,\n",
    "    param_grid,\n",
    "    scoring='f1',\n",
    "    n_jobs=-1,\n",
    "    verbose=0,\n",
    "    refit='f1'\n",
    ")"
   ]
  },
  {
   "cell_type": "markdown",
   "id": "6d24919c",
   "metadata": {},
   "source": [
    "Проведём подбор параметров."
   ]
  },
  {
   "cell_type": "code",
   "execution_count": 75,
   "id": "9790b56d",
   "metadata": {},
   "outputs": [
    {
     "name": "stdout",
     "output_type": "stream",
     "text": [
      "CPU times: total: 875 ms\n",
      "Wall time: 3.99 s\n"
     ]
    }
   ],
   "source": [
    "%time gs_cb.fit(X, y)\n",
    "None"
   ]
  },
  {
   "cell_type": "markdown",
   "id": "671146e1",
   "metadata": {},
   "source": [
    "Проверим результаты."
   ]
  },
  {
   "cell_type": "code",
   "execution_count": 76,
   "id": "e144fc6f",
   "metadata": {},
   "outputs": [
    {
     "data": {
      "text/html": [
       "<div>\n",
       "<style scoped>\n",
       "    .dataframe tbody tr th:only-of-type {\n",
       "        vertical-align: middle;\n",
       "    }\n",
       "\n",
       "    .dataframe tbody tr th {\n",
       "        vertical-align: top;\n",
       "    }\n",
       "\n",
       "    .dataframe thead th {\n",
       "        text-align: right;\n",
       "    }\n",
       "</style>\n",
       "<table border=\"1\" class=\"dataframe\">\n",
       "  <thead>\n",
       "    <tr style=\"text-align: right;\">\n",
       "      <th></th>\n",
       "      <th>param_learning_rate</th>\n",
       "      <th>param_depth</th>\n",
       "      <th>mean_test_score</th>\n",
       "      <th>rank_test_score</th>\n",
       "    </tr>\n",
       "  </thead>\n",
       "  <tbody>\n",
       "    <tr>\n",
       "      <th>4</th>\n",
       "      <td>0.500</td>\n",
       "      <td>3</td>\n",
       "      <td>0.990</td>\n",
       "      <td>1</td>\n",
       "    </tr>\n",
       "    <tr>\n",
       "      <th>0</th>\n",
       "      <td>0.100</td>\n",
       "      <td>2</td>\n",
       "      <td>0.985</td>\n",
       "      <td>2</td>\n",
       "    </tr>\n",
       "    <tr>\n",
       "      <th>3</th>\n",
       "      <td>0.100</td>\n",
       "      <td>3</td>\n",
       "      <td>0.985</td>\n",
       "      <td>2</td>\n",
       "    </tr>\n",
       "    <tr>\n",
       "      <th>7</th>\n",
       "      <td>0.500</td>\n",
       "      <td>4</td>\n",
       "      <td>0.985</td>\n",
       "      <td>2</td>\n",
       "    </tr>\n",
       "    <tr>\n",
       "      <th>8</th>\n",
       "      <td>1</td>\n",
       "      <td>4</td>\n",
       "      <td>0.985</td>\n",
       "      <td>2</td>\n",
       "    </tr>\n",
       "    <tr>\n",
       "      <th>9</th>\n",
       "      <td>0.100</td>\n",
       "      <td>5</td>\n",
       "      <td>0.985</td>\n",
       "      <td>2</td>\n",
       "    </tr>\n",
       "    <tr>\n",
       "      <th>10</th>\n",
       "      <td>0.500</td>\n",
       "      <td>5</td>\n",
       "      <td>0.985</td>\n",
       "      <td>2</td>\n",
       "    </tr>\n",
       "    <tr>\n",
       "      <th>12</th>\n",
       "      <td>0.100</td>\n",
       "      <td>6</td>\n",
       "      <td>0.985</td>\n",
       "      <td>2</td>\n",
       "    </tr>\n",
       "    <tr>\n",
       "      <th>13</th>\n",
       "      <td>0.500</td>\n",
       "      <td>6</td>\n",
       "      <td>0.985</td>\n",
       "      <td>2</td>\n",
       "    </tr>\n",
       "    <tr>\n",
       "      <th>2</th>\n",
       "      <td>1</td>\n",
       "      <td>2</td>\n",
       "      <td>0.981</td>\n",
       "      <td>10</td>\n",
       "    </tr>\n",
       "  </tbody>\n",
       "</table>\n",
       "</div>"
      ],
      "text/plain": [
       "   param_learning_rate param_depth  mean_test_score  rank_test_score\n",
       "4                0.500           3            0.990                1\n",
       "0                0.100           2            0.985                2\n",
       "3                0.100           3            0.985                2\n",
       "7                0.500           4            0.985                2\n",
       "8                    1           4            0.985                2\n",
       "9                0.100           5            0.985                2\n",
       "10               0.500           5            0.985                2\n",
       "12               0.100           6            0.985                2\n",
       "13               0.500           6            0.985                2\n",
       "2                    1           2            0.981               10"
      ]
     },
     "execution_count": 76,
     "metadata": {},
     "output_type": "execute_result"
    }
   ],
   "source": [
    "pd.DataFrame(gs_cb.cv_results_)[[\n",
    "    'param_learning_rate',\n",
    "    'param_depth', 'mean_test_score', 'rank_test_score']].sort_values(by='rank_test_score').head(10)"
   ]
  },
  {
   "cell_type": "code",
   "execution_count": 77,
   "id": "91939529",
   "metadata": {},
   "outputs": [
    {
     "data": {
      "text/plain": [
       "0.9902439024390244"
      ]
     },
     "execution_count": 77,
     "metadata": {},
     "output_type": "execute_result"
    }
   ],
   "source": [
    "gs_cb.best_score_"
   ]
  },
  {
   "cell_type": "markdown",
   "id": "7794d8d9",
   "metadata": {},
   "source": [
    "Результат чуть лучше SVM."
   ]
  },
  {
   "cell_type": "markdown",
   "id": "1c9bf965",
   "metadata": {},
   "source": [
    "Проведём проверку лучшей модели на тестовой выборке."
   ]
  },
  {
   "cell_type": "code",
   "execution_count": 78,
   "id": "da1a4828",
   "metadata": {},
   "outputs": [
    {
     "data": {
      "text/html": [
       "<div>\n",
       "<style scoped>\n",
       "    .dataframe tbody tr th:only-of-type {\n",
       "        vertical-align: middle;\n",
       "    }\n",
       "\n",
       "    .dataframe tbody tr th {\n",
       "        vertical-align: top;\n",
       "    }\n",
       "\n",
       "    .dataframe thead th {\n",
       "        text-align: right;\n",
       "    }\n",
       "</style>\n",
       "<table border=\"1\" class=\"dataframe\">\n",
       "  <thead>\n",
       "    <tr style=\"text-align: right;\">\n",
       "      <th></th>\n",
       "      <th>precision</th>\n",
       "      <th>recall</th>\n",
       "      <th>f1-score</th>\n",
       "      <th>support</th>\n",
       "    </tr>\n",
       "  </thead>\n",
       "  <tbody>\n",
       "    <tr>\n",
       "      <th>0</th>\n",
       "      <td>0.999</td>\n",
       "      <td>1.000</td>\n",
       "      <td>0.999</td>\n",
       "      <td>668.000</td>\n",
       "    </tr>\n",
       "    <tr>\n",
       "      <th>1</th>\n",
       "      <td>1.000</td>\n",
       "      <td>0.972</td>\n",
       "      <td>0.986</td>\n",
       "      <td>36.000</td>\n",
       "    </tr>\n",
       "    <tr>\n",
       "      <th>accuracy</th>\n",
       "      <td>0.999</td>\n",
       "      <td>0.999</td>\n",
       "      <td>0.999</td>\n",
       "      <td>0.999</td>\n",
       "    </tr>\n",
       "    <tr>\n",
       "      <th>macro avg</th>\n",
       "      <td>0.999</td>\n",
       "      <td>0.986</td>\n",
       "      <td>0.993</td>\n",
       "      <td>704.000</td>\n",
       "    </tr>\n",
       "    <tr>\n",
       "      <th>weighted avg</th>\n",
       "      <td>0.999</td>\n",
       "      <td>0.999</td>\n",
       "      <td>0.999</td>\n",
       "      <td>704.000</td>\n",
       "    </tr>\n",
       "  </tbody>\n",
       "</table>\n",
       "</div>"
      ],
      "text/plain": [
       "              precision  recall  f1-score  support\n",
       "0                 0.999   1.000     0.999  668.000\n",
       "1                 1.000   0.972     0.986   36.000\n",
       "accuracy          0.999   0.999     0.999    0.999\n",
       "macro avg         0.999   0.986     0.993  704.000\n",
       "weighted avg      0.999   0.999     0.999  704.000"
      ]
     },
     "metadata": {},
     "output_type": "display_data"
    }
   ],
   "source": [
    "predictions_test = gs_cb.predict(X_test)\n",
    "cr = classification_report(y_test, predictions_test, output_dict=True, zero_division=0)\n",
    "display(pd.DataFrame(cr).round(decimals=3).transpose())"
   ]
  },
  {
   "cell_type": "markdown",
   "id": "ed318959",
   "metadata": {},
   "source": [
    "Также визуализируем."
   ]
  },
  {
   "cell_type": "code",
   "execution_count": 79,
   "id": "ab5b875d",
   "metadata": {},
   "outputs": [
    {
     "data": {
      "image/png": "[encoded data removed]",
      "text/plain": [
       "<Figure size 640x480 with 2 Axes>"
      ]
     },
     "metadata": {},
     "output_type": "display_data"
    }
   ],
   "source": [
    "cm = confusion_matrix(y_test, predictions_test)\n",
    "cmd = ConfusionMatrixDisplay(cm)\n",
    "cmd.plot()\n",
    "plt.show()"
   ]
  },
  {
   "cell_type": "markdown",
   "id": "8199bb06",
   "metadata": {},
   "source": [
    "Посмотрим на то единственный трек, который модели не признали кавером."
   ]
  },
  {
   "cell_type": "code",
   "execution_count": 80,
   "id": "04bbc6c8",
   "metadata": {},
   "outputs": [
    {
     "data": {
      "text/html": [
       "<div>\n",
       "<style scoped>\n",
       "    .dataframe tbody tr th:only-of-type {\n",
       "        vertical-align: middle;\n",
       "    }\n",
       "\n",
       "    .dataframe tbody tr th {\n",
       "        vertical-align: top;\n",
       "    }\n",
       "\n",
       "    .dataframe thead th {\n",
       "        text-align: right;\n",
       "    }\n",
       "</style>\n",
       "<table border=\"1\" class=\"dataframe\">\n",
       "  <thead>\n",
       "    <tr style=\"text-align: right;\">\n",
       "      <th></th>\n",
       "      <th>original_track_id_first</th>\n",
       "      <th>track_id_first</th>\n",
       "      <th>track_remake_type_first</th>\n",
       "      <th>dttm_first</th>\n",
       "      <th>title_first</th>\n",
       "      <th>language_first</th>\n",
       "      <th>duration_first</th>\n",
       "      <th>text_first</th>\n",
       "      <th>embeddings_first</th>\n",
       "      <th>title_embeddings_first</th>\n",
       "      <th>original_track_id_second</th>\n",
       "      <th>track_id_second</th>\n",
       "      <th>track_remake_type_second</th>\n",
       "      <th>dttm_second</th>\n",
       "      <th>title_second</th>\n",
       "      <th>language_second</th>\n",
       "      <th>duration_second</th>\n",
       "      <th>text_second</th>\n",
       "      <th>embeddings_second</th>\n",
       "      <th>title_embeddings_second</th>\n",
       "      <th>is_cover</th>\n",
       "      <th>language_unknown</th>\n",
       "      <th>same_language</th>\n",
       "      <th>text_similarity</th>\n",
       "      <th>title_similarity</th>\n",
       "    </tr>\n",
       "  </thead>\n",
       "  <tbody>\n",
       "    <tr>\n",
       "      <th>33</th>\n",
       "      <td>d23bd7aaa8aae3c60b431d45eafe9cb4</td>\n",
       "      <td>d77d5f78b553751a893f4eab0dbe5437</td>\n",
       "      <td>COVER</td>\n",
       "      <td>2021-03-15 12:11:49</td>\n",
       "      <td>белые крылья</td>\n",
       "      <td>RU</td>\n",
       "      <td>134180.000</td>\n",
       "      <td>дайте мне белые крылья    я утопаю в омуте  через тернии  провода    в небо  только б не мучаться   дайте мне белые крылья    я утопаю в омуте  через тернии  провода    в небо  только б не мучаться   тучкой маленькой обернусь и над твоим крохотны...</td>\n",
       "      <td>[-0.054874926805496216, -0.04738309234380722, -0.02423044852912426, -0.07477065920829773, -0.010576612316071987, 0.03659221902489662, -0.05939880758523941, -0.028331924229860306, -0.013450082391500473, 0.017253659665584564, 0.028974134474992752, ...</td>\n",
       "      <td>[0.02957996353507042, -0.03239593654870987, -0.023814812302589417, -0.04001777619123459, 0.014775223098695278, 0.018748192116618156, -0.054251912981271744, -0.012371303513646126, -0.04867536202073097, -0.04400248825550079, -0.01826295629143715, -...</td>\n",
       "      <td>d23bd7aaa8aae3c60b431d45eafe9cb4</td>\n",
       "      <td>d23bd7aaa8aae3c60b431d45eafe9cb4</td>\n",
       "      <td>ORIGINAL</td>\n",
       "      <td>2022-10-27 21:00:00</td>\n",
       "      <td>я так соскучился</td>\n",
       "      <td>RU</td>\n",
       "      <td>408870.000</td>\n",
       "      <td>город расколется на мириады зеркал рвутся в любовных пожарах петарды сердец стенка за стенкой  душа  за душою тоска тянет в болотную топь заколдованных мест  я же тебя никогда никому не отдам пело сердечко и плакали гордые льды наши тела бы могли...</td>\n",
       "      <td>[-0.04521183297038078, -0.0028041969053447247, 0.0025766505859792233, -0.07152652740478516, 0.04110591486096382, 0.048111166805028915, -0.059831999242305756, -0.011143587529659271, -0.00011979886039625853, 0.016346866264939308, 0.0268500056117773...</td>\n",
       "      <td>[-0.03063390403985977, -0.053099967539310455, -0.03432947397232056, -0.06303263455629349, -0.04628288000822067, -0.023743776604533195, -0.00025596952764317393, -0.038573190569877625, -0.04952862486243248, -0.010214222595095634, 0.0155485291033983...</td>\n",
       "      <td>1</td>\n",
       "      <td>0</td>\n",
       "      <td>1</td>\n",
       "      <td>0.649</td>\n",
       "      <td>0.342</td>\n",
       "    </tr>\n",
       "  </tbody>\n",
       "</table>\n",
       "</div>"
      ],
      "text/plain": [
       "             original_track_id_first                    track_id_first track_remake_type_first          dttm_first   title_first language_first  duration_first                                                                                                                                                                                                                                                 text_first                                                                                                                                                                                                                                           embeddings_first                                                                                                                                                                                                                                     title_embeddings_first          original_track_id_second                   track_id_second  \\\n",
       "33  d23bd7aaa8aae3c60b431d45eafe9cb4  d77d5f78b553751a893f4eab0dbe5437                   COVER 2021-03-15 12:11:49  белые крылья             RU      134180.000  дайте мне белые крылья    я утопаю в омуте  через тернии  провода    в небо  только б не мучаться   дайте мне белые крылья    я утопаю в омуте  через тернии  провода    в небо  только б не мучаться   тучкой маленькой обернусь и над твоим крохотны...  [-0.054874926805496216, -0.04738309234380722, -0.02423044852912426, -0.07477065920829773, -0.010576612316071987, 0.03659221902489662, -0.05939880758523941, -0.028331924229860306, -0.013450082391500473, 0.017253659665584564, 0.028974134474992752, ...  [0.02957996353507042, -0.03239593654870987, -0.023814812302589417, -0.04001777619123459, 0.014775223098695278, 0.018748192116618156, -0.054251912981271744, -0.012371303513646126, -0.04867536202073097, -0.04400248825550079, -0.01826295629143715, -...  d23bd7aaa8aae3c60b431d45eafe9cb4  d23bd7aaa8aae3c60b431d45eafe9cb4   \n",
       "\n",
       "   track_remake_type_second         dttm_second      title_second language_second  duration_second                                                                                                                                                                                                                                                text_second                                                                                                                                                                                                                                          embeddings_second                                                                                                                                                                                                                                    title_embeddings_second  is_cover  language_unknown  same_language  text_similarity  title_similarity  \n",
       "33                 ORIGINAL 2022-10-27 21:00:00  я так соскучился              RU       408870.000  город расколется на мириады зеркал рвутся в любовных пожарах петарды сердец стенка за стенкой  душа  за душою тоска тянет в болотную топь заколдованных мест  я же тебя никогда никому не отдам пело сердечко и плакали гордые льды наши тела бы могли...  [-0.04521183297038078, -0.0028041969053447247, 0.0025766505859792233, -0.07152652740478516, 0.04110591486096382, 0.048111166805028915, -0.059831999242305756, -0.011143587529659271, -0.00011979886039625853, 0.016346866264939308, 0.0268500056117773...  [-0.03063390403985977, -0.053099967539310455, -0.03432947397232056, -0.06303263455629349, -0.04628288000822067, -0.023743776604533195, -0.00025596952764317393, -0.038573190569877625, -0.04952862486243248, -0.010214222595095634, 0.0155485291033983...         1                 0              1            0.649             0.342  "
      ]
     },
     "execution_count": 80,
     "metadata": {},
     "output_type": "execute_result"
    }
   ],
   "source": [
    "data.iloc[\n",
    "    (y_test != predictions_test)[(y_test != predictions_test) == True].index\n",
    "]"
   ]
  },
  {
   "cell_type": "markdown",
   "id": "df398da7",
   "metadata": {},
   "source": [
    "Названия отличаются, поэтому косинусная близость маленькая. Посмотрим на тексты песен."
   ]
  },
  {
   "cell_type": "code",
   "execution_count": 81,
   "id": "f8bd2d14",
   "metadata": {},
   "outputs": [
    {
     "data": {
      "text/plain": [
       "'дайте мне белые крылья    я утопаю в омуте  через тернии  провода    в небо  только б не мучаться   дайте мне белые крылья    я утопаю в омуте  через тернии  провода    в небо  только б не мучаться   тучкой маленькой обернусь и над твоим крохотным домиком разрыдаюсь косым дождем  знаешь  я так соскучился'"
      ]
     },
     "execution_count": 81,
     "metadata": {},
     "output_type": "execute_result"
    }
   ],
   "source": [
    "data.iloc[33]['text_first']"
   ]
  },
  {
   "cell_type": "code",
   "execution_count": 82,
   "id": "77205514",
   "metadata": {},
   "outputs": [
    {
     "data": {
      "text/plain": [
       "'город расколется на мириады зеркал рвутся в любовных пожарах петарды сердец стенка за стенкой  душа  за душою тоска тянет в болотную топь заколдованных мест  я же тебя никогда никому не отдам пело сердечко и плакали гордые льды наши тела бы могли отыскать по следам если бы мы не забыли оставить следы  дайте мне белые крылья  я утопаю в омуте через тернии  провода  в небо  только б не мучиться тучкой маленькой обернусь и над твоим крохотным домиком разрыдаюсь косым дождём  знаешь  я так соскучился   знаешь  я так соскучился  знаешь  я так соскучился  знаешь  я так соскучился  знаешь  встретимся и за секунду проносится ночь но вечностью чёрной разлука обрушится вновь так почему же мы всё разбегаемся прочь зная в каком направлении наша любовь   мы друг для друга давно стали как зеркала видеть тебя и всё чаще себя узнавать нитью незримой нас намертво сшила игла так больно  когда города нас хотят разорвать  дайте мне белые крылья  я утопаю в омуте через тернии  провода  в небо  только б не мучиться тучкой маленькой обернусь и над твоим крохотным домиком разрыдаюсь косым дождём  знаешь  я так соскучился   знаешь  я так соскучился знаешь  я так соскучился  знаешь  я так соскучился   знаешь  дайте мне белые крылья  я утопаю в омуте через тернии  провода  в небо  только б не мучиться тучкой маленькой обернусь и над твоим крохотным домиком разрыдаюсь косым дождём  знаешь  я так соскучился   знаешь  я так соскучился знаешь  я так соскучился  знаешь  я так соскучился  знаешь  я так соскучился   знаешь  я так соскучился  знаешь  я так соскучился  знаешь  я так соскучился  знаешь  я так соскучился'"
      ]
     },
     "execution_count": 82,
     "metadata": {},
     "output_type": "execute_result"
    }
   ],
   "source": [
    "data.iloc[33]['text_second']"
   ]
  },
  {
   "cell_type": "markdown",
   "id": "1a68131f",
   "metadata": {},
   "source": [
    "В целом прослеживаются определённые схожие фрагменты, но нужно прослушать оба трека чтобы с уверенностью сказать что они действительно каверы друг друга. Также вызывает вопросы что трек помеченный как кавер датирован 15.03.2021, а помеченный оригинал, на который он ссылается - датируется 27.10.2022. Хотя должно было бы быть наоборот. Возможна какая-то ошибка в разметке данных."
   ]
  },
  {
   "cell_type": "markdown",
   "id": "3c674a14",
   "metadata": {},
   "source": [
    "### Выводы\n",
    "\n",
    "Мы создали обучающую и тестовые выборки и обучили три модели: LogisticRegression, LinearSVC и CatBoostClassifier.\n",
    "Мы использовали кросс-валидацию и подбор гиперпараметров с помощью GridSearch.\n",
    "\n",
    "Даже базовая логистическая регрессия выдала f1 выше 0,99. При этом из-за ограниченности тестовой выборки и SVM и градиентный бустинг показали одинаковый результат, не опознав лишь один трек как кавер.\n",
    "\n",
    "Теперь протестируем нашу модель на поиске по треку."
   ]
  },
  {
   "cell_type": "markdown",
   "id": "7d4c2d0e",
   "metadata": {},
   "source": [
    "## Inference"
   ]
  },
  {
   "cell_type": "markdown",
   "id": "44b169e1",
   "metadata": {},
   "source": [
    "Напишем функцию, которая по случайному треку из базы составляет пары с каждым другим треком в базе, получает необходимые features, получает оценку вероятности того что пара является кавером друг к другу и выводит список треков, а также определяет исходный трек в цепочке."
   ]
  },
  {
   "cell_type": "code",
   "execution_count": 95,
   "id": "ba549da6",
   "metadata": {},
   "outputs": [],
   "source": [
    "def get_covers(data: pd.DataFrame = df, track: pd.DataFrame = None, model = gs_cb, random_state: int = None):\n",
    "    \"\"\"\n",
    "    По треку ищет в базе похожие треки (кандидаты в каверы). Выводит на экран оригинал и список кандидатов в каверы.\n",
    "    \n",
    "    Аргументы:\n",
    "    data:\n",
    "        датафрейм с информацией о треках (имитация базы Яндекс.Музыка)\n",
    "    track:\n",
    "        выбранный трек в виде строки датафрейма\n",
    "    model:\n",
    "        модель для предсказания метки is_cover\n",
    "    random_state:\n",
    "        аргумент передаётся в функцию отбора исходного трека\n",
    "    \n",
    "    Возвращает:\n",
    "    None\n",
    "    \"\"\"\n",
    "    \n",
    "    if not track:\n",
    "        track = data[\n",
    "            (data['track_remake_type'] == 'COVER')\n",
    "            & ~(data['original_track_id'].isna())\n",
    "        ].sample(1, random_state=random_state)\n",
    "        \n",
    "    # Объединим информацию по треку с другими треками.\n",
    "    track_data = pd.merge(data, track, how='cross', suffixes=['_first', '_second'])\n",
    "    \n",
    "    # Создадим новые признаки.\n",
    "    track_data['language_unknown'] = (track_data['language_first'].isna()\n",
    "                                      | track_data['language_second'].isna()).astype(int)\n",
    "    track_data['same_language'] = (track_data['language_first']\n",
    "                                   == track_data['language_second']).astype(int)\n",
    "    track_data['text_similarity'] = cosine_similarity(\n",
    "        track_data['embeddings_first'].tolist(),\n",
    "        track_data['embeddings_second'].tolist()\n",
    "    ).diagonal()\n",
    "    track_data['title_similarity'] = cosine_similarity(\n",
    "        track_data['title_embeddings_first'].tolist(),\n",
    "        track_data['title_embeddings_second'].tolist()\n",
    "    ).diagonal()\n",
    "    \n",
    "    # Выделим данные для модели и получим предсказания.\n",
    "    track_data = track_data[['duration_first', 'duration_second',\n",
    "                         'same_language', 'language_unknown',\n",
    "                         'text_similarity', 'title_similarity']]\n",
    "    data['is_cover'] = model.predict(track_data)\n",
    "    data['text_similarity'] = track_data['text_similarity']\n",
    "    data['title_similarity'] = track_data['title_similarity']\n",
    "    \n",
    "    # Выводим результаты на экран.\n",
    "    columns = ['title', 'text', 'dttm', 'language', 'duration', 'text_similarity', 'title_similarity']\n",
    "    print('', '=' * 29, ' трек к которому ищем каверы ', '=' * 29)\n",
    "    track = data[data['track_id'] == track.iloc[0]['track_id']]\n",
    "    display(track[columns])\n",
    "    print('\\n\\n', '=' * 25, ' самый ранний похожий трек (оригинал) ', '=' * 24)\n",
    "    display(data[\n",
    "        (data['is_cover'] == 1)\n",
    "        & (data['track_id'] != track.iloc[0]['track_id'])\n",
    "    ][columns].sort_values(by='dttm', ascending=True).iloc[:1])\n",
    "    print('\\n\\n', '=' * 32, ' другие каверы на трек ', '=' * 32)\n",
    "    display(data[\n",
    "        (data['is_cover'] == 1)\n",
    "        & (data['track_id'] != track.iloc[0]['track_id'])\n",
    "    ][columns].sort_values(by='text_similarity', ascending=False).iloc[1:])\n",
    "    \n",
    "    return None"
   ]
  },
  {
   "cell_type": "markdown",
   "id": "1eda84bf",
   "metadata": {},
   "source": [
    "Посмотрим на результат работы нашей модели."
   ]
  },
  {
   "cell_type": "code",
   "execution_count": 96,
   "id": "35b44658",
   "metadata": {
    "scrolled": false
   },
   "outputs": [
    {
     "name": "stdout",
     "output_type": "stream",
     "text": [
      " =============================  трек к которому ищем каверы  =============================\n"
     ]
    },
    {
     "data": {
      "text/html": [
       "<div>\n",
       "<style scoped>\n",
       "    .dataframe tbody tr th:only-of-type {\n",
       "        vertical-align: middle;\n",
       "    }\n",
       "\n",
       "    .dataframe tbody tr th {\n",
       "        vertical-align: top;\n",
       "    }\n",
       "\n",
       "    .dataframe thead th {\n",
       "        text-align: right;\n",
       "    }\n",
       "</style>\n",
       "<table border=\"1\" class=\"dataframe\">\n",
       "  <thead>\n",
       "    <tr style=\"text-align: right;\">\n",
       "      <th></th>\n",
       "      <th>title</th>\n",
       "      <th>text</th>\n",
       "      <th>dttm</th>\n",
       "      <th>language</th>\n",
       "      <th>duration</th>\n",
       "      <th>text_similarity</th>\n",
       "      <th>title_similarity</th>\n",
       "    </tr>\n",
       "  </thead>\n",
       "  <tbody>\n",
       "    <tr>\n",
       "      <th>6873</th>\n",
       "      <td>heads will roll</td>\n",
       "      <td>off  off  off  off  off with your head dance  dance 'til you're dead heads will roll heads will roll heads will roll on the floor  glitter on the wet streets silver over everything the river's all wet you're all chrome  dripping with alchemy shiv...</td>\n",
       "      <td>2023-09-02 21:00:00</td>\n",
       "      <td>EN</td>\n",
       "      <td>140050.000</td>\n",
       "      <td>1.000</td>\n",
       "      <td>1.000</td>\n",
       "    </tr>\n",
       "  </tbody>\n",
       "</table>\n",
       "</div>"
      ],
      "text/plain": [
       "                title                                                                                                                                                                                                                                                       text                dttm language   duration  text_similarity  title_similarity\n",
       "6873  heads will roll  off  off  off  off  off with your head dance  dance 'til you're dead heads will roll heads will roll heads will roll on the floor  glitter on the wet streets silver over everything the river's all wet you're all chrome  dripping with alchemy shiv... 2023-09-02 21:00:00       EN 140050.000            1.000             1.000"
      ]
     },
     "metadata": {},
     "output_type": "display_data"
    },
    {
     "name": "stdout",
     "output_type": "stream",
     "text": [
      "\n",
      "\n",
      " =========================  самый ранний похожий трек (оригинал)  ========================\n"
     ]
    },
    {
     "data": {
      "text/html": [
       "<div>\n",
       "<style scoped>\n",
       "    .dataframe tbody tr th:only-of-type {\n",
       "        vertical-align: middle;\n",
       "    }\n",
       "\n",
       "    .dataframe tbody tr th {\n",
       "        vertical-align: top;\n",
       "    }\n",
       "\n",
       "    .dataframe thead th {\n",
       "        text-align: right;\n",
       "    }\n",
       "</style>\n",
       "<table border=\"1\" class=\"dataframe\">\n",
       "  <thead>\n",
       "    <tr style=\"text-align: right;\">\n",
       "      <th></th>\n",
       "      <th>title</th>\n",
       "      <th>text</th>\n",
       "      <th>dttm</th>\n",
       "      <th>language</th>\n",
       "      <th>duration</th>\n",
       "      <th>text_similarity</th>\n",
       "      <th>title_similarity</th>\n",
       "    </tr>\n",
       "  </thead>\n",
       "  <tbody>\n",
       "    <tr>\n",
       "      <th>1562</th>\n",
       "      <td>some heads are gonna roll</td>\n",
       "      <td>you can look to the left and look to the right but you will live in danger tonight when the enemy comes he will never be heard he'll blow your mind and not say a word blinding lights  flashing colors sleepless nights if the man with the power can...</td>\n",
       "      <td>2013-07-18 20:00:00</td>\n",
       "      <td>EN</td>\n",
       "      <td>256410.000</td>\n",
       "      <td>0.613</td>\n",
       "      <td>0.802</td>\n",
       "    </tr>\n",
       "  </tbody>\n",
       "</table>\n",
       "</div>"
      ],
      "text/plain": [
       "                          title                                                                                                                                                                                                                                                       text                dttm language   duration  text_similarity  title_similarity\n",
       "1562  some heads are gonna roll  you can look to the left and look to the right but you will live in danger tonight when the enemy comes he will never be heard he'll blow your mind and not say a word blinding lights  flashing colors sleepless nights if the man with the power can... 2013-07-18 20:00:00       EN 256410.000            0.613             0.802"
      ]
     },
     "metadata": {},
     "output_type": "display_data"
    },
    {
     "name": "stdout",
     "output_type": "stream",
     "text": [
      "\n",
      "\n",
      " ================================  другие каверы на трек  ================================\n"
     ]
    },
    {
     "data": {
      "text/html": [
       "<div>\n",
       "<style scoped>\n",
       "    .dataframe tbody tr th:only-of-type {\n",
       "        vertical-align: middle;\n",
       "    }\n",
       "\n",
       "    .dataframe tbody tr th {\n",
       "        vertical-align: top;\n",
       "    }\n",
       "\n",
       "    .dataframe thead th {\n",
       "        text-align: right;\n",
       "    }\n",
       "</style>\n",
       "<table border=\"1\" class=\"dataframe\">\n",
       "  <thead>\n",
       "    <tr style=\"text-align: right;\">\n",
       "      <th></th>\n",
       "      <th>title</th>\n",
       "      <th>text</th>\n",
       "      <th>dttm</th>\n",
       "      <th>language</th>\n",
       "      <th>duration</th>\n",
       "      <th>text_similarity</th>\n",
       "      <th>title_similarity</th>\n",
       "    </tr>\n",
       "  </thead>\n",
       "  <tbody>\n",
       "    <tr>\n",
       "      <th>5647</th>\n",
       "      <td>heads will roll</td>\n",
       "      <td>off with your head dance 'til you're dead heads will roll heads will roll heads will roll on the floor  heads will roll on the floor  off with your head dance 'til you're dead heads will roll heads will roll heads will roll on the floor  glitter ...</td>\n",
       "      <td>2020-11-08 21:00:00</td>\n",
       "      <td>EN</td>\n",
       "      <td>150480.000</td>\n",
       "      <td>0.926</td>\n",
       "      <td>1.000</td>\n",
       "    </tr>\n",
       "    <tr>\n",
       "      <th>7275</th>\n",
       "      <td>heads will roll</td>\n",
       "      <td>off with your head  off with your head  dance 'til you're dead  dance 'til you're dead   heads will roll  heads will roll  heads will roll  heads will roll  heads will roll  heads will roll  on the floor  off with your head  off with your head  d...</td>\n",
       "      <td>2021-07-27 21:00:00</td>\n",
       "      <td>EN</td>\n",
       "      <td>135570.000</td>\n",
       "      <td>0.892</td>\n",
       "      <td>1.000</td>\n",
       "    </tr>\n",
       "    <tr>\n",
       "      <th>1562</th>\n",
       "      <td>some heads are gonna roll</td>\n",
       "      <td>you can look to the left and look to the right but you will live in danger tonight when the enemy comes he will never be heard he'll blow your mind and not say a word blinding lights  flashing colors sleepless nights if the man with the power can...</td>\n",
       "      <td>2013-07-18 20:00:00</td>\n",
       "      <td>EN</td>\n",
       "      <td>256410.000</td>\n",
       "      <td>0.613</td>\n",
       "      <td>0.802</td>\n",
       "    </tr>\n",
       "  </tbody>\n",
       "</table>\n",
       "</div>"
      ],
      "text/plain": [
       "                          title                                                                                                                                                                                                                                                       text                dttm language   duration  text_similarity  title_similarity\n",
       "5647            heads will roll  off with your head dance 'til you're dead heads will roll heads will roll heads will roll on the floor  heads will roll on the floor  off with your head dance 'til you're dead heads will roll heads will roll heads will roll on the floor  glitter ... 2020-11-08 21:00:00       EN 150480.000            0.926             1.000\n",
       "7275            heads will roll  off with your head  off with your head  dance 'til you're dead  dance 'til you're dead   heads will roll  heads will roll  heads will roll  heads will roll  heads will roll  heads will roll  on the floor  off with your head  off with your head  d... 2021-07-27 21:00:00       EN 135570.000            0.892             1.000\n",
       "1562  some heads are gonna roll  you can look to the left and look to the right but you will live in danger tonight when the enemy comes he will never be heard he'll blow your mind and not say a word blinding lights  flashing colors sleepless nights if the man with the power can... 2013-07-18 20:00:00       EN 256410.000            0.613             0.802"
      ]
     },
     "metadata": {},
     "output_type": "display_data"
    }
   ],
   "source": [
    "get_covers(random_state=SEED)"
   ]
  },
  {
   "cell_type": "markdown",
   "id": "403d6e95",
   "metadata": {},
   "source": [
    "Модель смогла найти оригинальный трек `Some Heads Are Gonna Roll` от `Judas Priest`, хотя в каверах используется только небольшая часть текста и названия треков не совпадают."
   ]
  },
  {
   "cell_type": "markdown",
   "id": "7860313c",
   "metadata": {},
   "source": [
    "## Заключение"
   ]
  },
  {
   "cell_type": "markdown",
   "id": "12538b05",
   "metadata": {},
   "source": [
    "Обнаружение треков каверов - важная продуктовая задача, которая может значительно улучшить качество рекомендаций музыкального сервиса и повысить счастье пользователей.\n",
    "\n",
    "Мы проанализировали данные и сопоставили с конечной продуктовой задачей. Обдумали возможные пути решения и их ограничения.\n",
    "В связи со сжатыми сроками выбрали наиболее правдоподобные гипотезы. Для каждой из гипотез:\n",
    "\n",
    "  * предобработали данные\n",
    "  * сгенерировали новые признаки\n",
    "  * собрали данные для обучения\n",
    "  * исследовали разные модели классификации\n",
    "  * подобрали оптимальные гиперпараметры\n",
    "  * оценили качество модели на отложенной выборке\n",
    "  * провели инференс с поиском каверов.\n",
    "  \n",
    "В данной работе мы создали решение, которое по данным о песнях сможет собрать для заданного трека пул композиций максимально близких по смыслу, отобрать среди них нимболее раннюю в качестве исходного трека и отсортировать остальные в порядке похожести.\n",
    "\n",
    "Плюсы данного подхода:\n",
    "\n",
    "  * высокая точность\n",
    "  * интуитивное и простое создание списка треков-каверов для заданного\n",
    "  * лёгкость фильтрации и ранжирования отобранных треков, например, фильтрация каверов определённой временной эпохи\n",
    "\n",
    "Минусы подхода:\n",
    "\n",
    "  * каждый раз для нового трека требуется расчёт мер близости со всеми другими треками и или хранение этой информации (что потребует места), или перерасчёт \"на лету\" (что потребует вычислительных мощностей)\n",
    "  \n",
    "Возможные пути преодоления ограничений:\n",
    "\n",
    "  * для обоих вариантов можно отбирать простой моделью (только по метаданным) пул потенциальных кандидатов на кавер и только для них вычислять меры схожести и сравнивать между собой. Таким образом в случае с хранением данных - у каждого трека будет матрица ограниченного размера с данными о близости с предварительно отобранным сектором. А в случае с расчётом \"на лету\", будет просто меньшая выборка кандидатов."
   ]
  }
 ],
 "metadata": {
  "kernelspec": {
   "display_name": "Python 3 (ipykernel)",
   "language": "python",
   "name": "python3"
  },
  "language_info": {
   "codemirror_mode": {
    "name": "ipython",
    "version": 3
   },
   "file_extension": ".py",
   "mimetype": "text/x-python",
   "name": "python",
   "nbconvert_exporter": "python",
   "pygments_lexer": "ipython3",
   "version": "3.9.18"
  }
 },
 "nbformat": 4,
 "nbformat_minor": 5
}
